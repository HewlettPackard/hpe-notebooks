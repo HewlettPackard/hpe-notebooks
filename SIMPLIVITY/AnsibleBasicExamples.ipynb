{
 "cells": [
  {
   "cell_type": "markdown",
   "metadata": {},
   "source": [
    "## HPE SimpliVity Ansible module\n",
    "    SimpliVity automation using Ansible\n",
    "    Github repository :: https://github.com/HewlettPackard/simplivity-ansible"
   ]
  },
  {
   "cell_type": "markdown",
   "metadata": {},
   "source": [
    "## Requirements\n",
    "\n",
    "- Ansible >= 2.5</br>\n",
    "- Python >= 3.3</br>\n",
    "- HPE SimpliVity Python SDK</br>\n",
    "\n",
    "## Installation\n",
    "To perform a full installation, you must execute the following steps:<br>"
   ]
  },
  {
   "cell_type": "code",
   "execution_count": null,
   "metadata": {},
   "outputs": [],
   "source": [
    "# Clone the repository from Github for the Simplivity Ansible tools\n",
    "# Note that this command will fail when the folder ./simplivity-ansible already exists and there are files inside the folder.\n",
    "# You will need to perform this line of code if you are working on your own environments outside of this webinar.\n",
    "# git clone https://github.com/HewlettPackard/simplivity-ansible.git  #(folder for this exercise is available)"
   ]
  },
  {
   "cell_type": "code",
   "execution_count": null,
   "metadata": {},
   "outputs": [],
   "source": [
    "# Packages required for SimpliVity Ansible module to run\n",
    "# You will need to perform this line of code if you are working on you own environments outside of this webinar\n",
    "# pip install -r simplivity-ansible/requirements.txt  #(packages are already installed)"
   ]
  },
  {
   "cell_type": "code",
   "execution_count": null,
   "metadata": {},
   "outputs": [],
   "source": [
    "# Below environment variables needs to be set for adding simplivity library to the Ansible path\n",
    "export ANSIBLE_MODULE_UTILS=/home/student$$I/Discover/WKSHP-SimpliVity-API/simplivity-ansible/library/module_utils\n",
    "export ANSIBLE_LIBRARY=/home/student$$I/Discover/WKSHP-SimpliVity-API/simplivity-ansible/library"
   ]
  },
  {
   "cell_type": "markdown",
   "metadata": {},
   "source": [
    "## SimpliVity client configuration\n",
    "There are three ways to configure the simpliVity client.</br>\n",
    "### 1. Using a JSON Configuration File\n",
    "Save the below JSON in a file and update the details.</br>\n",
    "\n",
    "  {\n",
    "  \"ip\": \"10.30.4.56\",\n",
    "  \"credentials\": {\n",
    "    \"username\": \"username\",\n",
    "    \"password\": \"password\"\n",
    "    }\n",
    "  }\n",
    "\n",
    "🔒 Tip: Check the file permissions to ensure correct security, since the password is stored in clear-text.\n",
    "\n",
    "The configuration file path must be provided using config argument.</br>\n",
    "For example,\n",
    "\n",
    "      - name: Gather facts about SimpliVity virtual machine'\n",
    "        simplivity_virtual_machine_facts:\n",
    "          config: \"/path/to/config.json\"\n",
    "          name: \"VM name\"\n",
    "          \n",
    "### 2. Environment Variables\n",
    "\n",
    "If you prefer, the configuration can also be stored in environment variables.\n",
    "\n",
    "export SIMPLIVITYSDK_OVC_IP='10.30.4.56'</br>\n",
    "export SIMPLIVITYSDK_USERNAME='username'</br>\n",
    "export SIMPLIVITYSDK_PASSWORD='password'</br>\n",
    "\n",
    "🔒 Tip: Make sure no unauthorised person has access to the environment variables, since the password is stored in clear-text.\n",
    "\n",
    "Example,  \n",
    "          \n",
    "      - name: Gather facts about SimpliVity virtual machine'\n",
    "        simplivity_virtual_machine_facts:\n",
    "          name: \"VM name\"\n",
    "          \n",
    "### 3. Pass parameters in the playbook itself.\n",
    "    \n",
    "The third way to pass in your OVC credentials to your tasks is through an explicit specification on the task.</br>\n",
    "This option allows the parameters ovc_ip, username, password to be passed directly inside your task.\n",
    "\n",
    "     - name: Gather facts about SimpliVity virtual machine'\n",
    "       simplivity_virtual_machine_facts:\n",
    "         ovc_ip: 10.30.4.56\n",
    "         username: username\n",
    "         password: password\n",
    "         name: \"VM name\"\n",
    "       no_log: true\n",
    "       delegate_to: localhost\n",
    "\n",
    "**Setting no_log: true** is highly recommended in this third case, because the credentials are otherwise printed out in the log after the task completion.\n",
    "    "
   ]
  },
  {
   "cell_type": "markdown",
   "metadata": {},
   "source": [
    "## Create/Update a Virtual Machine using Ansible playbook\n",
    "<div class=\"alert alert-block alert-warning\">\n",
    "<b>READ FIRST!</b> Note that STUDENTXX is the assigned Student ID provided to you when you join this webinar. Using the folder on the left windows, traverse the folder /SimpliVity-ansible/demo_playbooks/ and edit the vm_create_or_update.yml file\n",
    "</div>\n",
    "\n",
    "    - name: Create a virtual machine on given ESXi hostname\n",
    "      vmware_guest:\n",
    "        hostname: \"16.31.86.185\"\n",
    "        username: \"root\"\n",
    "        password: \"vmware\"\n",
    "        validate_certs: no\n",
    "        folder: Barcelona/vm\n",
    "        name: student$$I_Ansible_demo_vm\n",
    "        state: present\n",
    "        guest_id: ubuntu64Guest\n",
    "        datacenter: CCP_Virt_0001\n",
    "        # This is hostname of particular ESXi server on which user wants VM to be deployed\n",
    "        esxi_hostname: \"16.31.87.117\"\n",
    "        disk:\n",
    "        - size_gb: 10\n",
    "          type: thick\n",
    "          datastore: CCP_Virt_0001\n",
    "        hardware:\n",
    "          memory_mb: 256\n",
    "          num_cpus: 1\n",
    "        cdrom:\n",
    "          type: none\n",
    "        networks:\n",
    "        - name: VM Network\n",
    "          type: static\n",
    "          device_type: flexible\n",
    "      delegate_to: localhost\n",
    "      register: student$$I_deploy_vm   "
   ]
  },
  {
   "cell_type": "code",
   "execution_count": null,
   "metadata": {},
   "outputs": [],
   "source": [
    "# Create a Virtual Machine and run the playbook again if you want to update any of the VM configurations like Network, datastore,etc.\n",
    "ansible-playbook -i simplivity-ansible/demo_playbooks/hosts simplivity-ansible/demo_playbooks/vm_create_or_update.yml -vvv"
   ]
  },
  {
   "cell_type": "markdown",
   "metadata": {},
   "source": [
    "## SimpliVity Virtual Machine backup\n",
    "<div class=\"alert alert-block alert-warning\">\n",
    "<b>READ FIRST!</b> Note that STUDENTXX is the assigned Student ID provided to you when you join this webinar. Using the folder on the left windows, traverse the folder /SimpliVity-ansible/demo_playbooks/ and edit the svt_vm_backup.yml file\n",
    "</div>\n",
    "\n",
    "     - vars:\n",
    "            vm_name: student$$I_Ansible_demo_vm\n",
    "    \n",
    "     - name: 'Simplivity create VM backup'\n",
    "        simplivity_virtual_machine:\n",
    "            ovc_ip: 16.31.87.107\n",
    "            username: administrator@vsphere.local\n",
    "            password: vmware\n",
    "            state: backup\n",
    "            data:\n",
    "                name: '{{ vm_name }}'\n",
    "                backup_name: '{{ vm_name }}_backup1'\n",
    "                cluster_name: null\n",
    "                app_consistent: false\n",
    "                consistency_type: null\n",
    "                retention: 0\n",
    "        delegate_to: localhost\n",
    "    "
   ]
  },
  {
   "cell_type": "code",
   "execution_count": null,
   "metadata": {},
   "outputs": [],
   "source": [
    "# Take simpliVity backup of a VM\n",
    "ansible-playbook -i simplivity-ansible/demo_playbooks/hosts simplivity-ansible/demo_playbooks/svt_vm_backup.yml -vvv"
   ]
  },
  {
   "cell_type": "markdown",
   "metadata": {},
   "source": [
    "## SimpliVity Virtual Machine clone\n",
    "<div class=\"alert alert-block alert-warning\">\n",
    "<b>READ FIRST!</b> Note that STUDENTXX is the assigned Student ID provided to you when you join this webinar. Using the folder on the left windows, traverse the folder /SimpliVity-ansible/demo_playbooks/ and edit the svt_vm_clone.yml file\n",
    "</div>\n",
    "\n",
    "    - vars:\n",
    "          vm_name: student$$I_Ansible_demo_vm\n",
    "    - name: 'Simplivity clone'\n",
    "          simplivity_virtual_machine:\n",
    "            ovc_ip: 16.31.87.107\n",
    "            username: root\n",
    "            password: vmware\n",
    "            state: clone\n",
    "            data:\n",
    "              name: '{{ vm_name }}'\n",
    "              new_name: '{{ vm_name}}_clone'\n",
    "        delegate_to: localhost\n",
    "\n",
    "    "
   ]
  },
  {
   "cell_type": "code",
   "execution_count": null,
   "metadata": {},
   "outputs": [],
   "source": [
    "# Take simpliVity clone of a VM\n",
    "ansible-playbook -i simplivity-ansible/demo_playbooks/hosts simplivity-ansible/demo_playbooks/svt_vm_clone.yml -vvv"
   ]
  },
  {
   "cell_type": "markdown",
   "metadata": {},
   "source": [
    "## SimpliVity Virtual Machine set policy\n",
    "<div class=\"alert alert-block alert-warning\">\n",
    "<b>READ FIRST!</b> Note that STUDENTXX is the assigned Student ID provided to you when you join this webinar. Using the folder on the left windows, traverse the folder /SimpliVity-ansible/demo_playbooks/ and edit the svt_vm_set_policy.yml file\n",
    "</div>\n",
    "\n",
    "     - vars:\n",
    "           vm_name: student$$I_Ansible_demo_vm\n",
    "           policy_name: Policy_01 \n",
    "     - name: 'Simplivity set VM policy'\n",
    "          simplivity_virtual_machine:\n",
    "            ovc_ip: 16.31.87.107\n",
    "            username: root\n",
    "            password: vmware\n",
    "            state: set_policy\n",
    "            data:\n",
    "              name: '{{ vm_name }}'\n",
    "              policy_name: '{{ policy_name }}'\n",
    "          delegate_to: localhost\n",
    "    "
   ]
  },
  {
   "cell_type": "code",
   "execution_count": null,
   "metadata": {},
   "outputs": [],
   "source": [
    "# Set backup policy of a VM\n",
    "ansible-playbook -i simplivity-ansible/demo_playbooks/hosts simplivity-ansible/demo_playbooks/svt_vm_set_policy.yml -vvv"
   ]
  },
  {
   "cell_type": "markdown",
   "metadata": {},
   "source": [
    "# Continue to go back to the Introduction Notebook\n",
    "Description: This link will allow you to try other notebooks.\n",
    "\n",
    "* [Introduction](Introduction.ipynb)"
   ]
  }
 ],
 "metadata": {
  "kernelspec": {
   "display_name": "Bash",
   "language": "bash",
   "name": "bash"
  },
  "language_info": {
   "codemirror_mode": "shell",
   "file_extension": ".sh",
   "mimetype": "text/x-sh",
   "name": "bash"
  }
 },
 "nbformat": 4,
 "nbformat_minor": 4
}
