{
 "cells": [
  {
   "cell_type": "markdown",
   "metadata": {},
   "source": [
    "## Exercise using SimpliVity Powershell Module\n",
    "\n",
    "Although it is fun to use the REST API primitive and issue them one-step-a-time, it's not a very productive in helping you manage your datacenter. This is because many use cases will involve other datacenter components such as VMware vCenter, Microsoft domain Controller, Networking gears etc.\n",
    "To increase your agility in managing SimpliVity HCI, we are going to show you how to use both the SimpliVity and VMware PowerShell module. This combination allows the admin to perform many repetitive task, providing additional opportunities to enhance your business.\n",
    "\n",
    "**Use case** We are planning to deploy a VM by cloning it from a known template, powering it up and waiting until the OS is up and running.\n",
    "\n",
    "### Let's see how we can automate this use case by using SimpliVity PowerShell module and VMware PowerCLI \n",
    "<div class=\"alert alert-block alert-warning\">\n",
    "<b>READ FIRST!</b> Please wait until the modules are loaded and displayed in your notebook.\n",
    "</div>\n"
   ]
  },
  {
   "cell_type": "code",
   "execution_count": null,
   "metadata": {},
   "outputs": [],
   "source": [
    "# The SimpliVity module has been allocated to the /user/local/share/PowerShell/Modules folder\n",
    "try {\n",
    "    Get-Module -ListAvailable | where-Object Name -match HPESimplivity\n",
    "} catch {\n",
    "    install-module HPESimplivity\n",
    "} \n",
    "# Load the PowerCLI and adjust the configuration accordingly,this can take about 1 minute, please wait until you see response.\n",
    "try {\n",
    "    Get-Module -ListAvailable | where Name -match VMware\n",
    "    \n",
    "} catch {\n",
    "    Install-Module -Name VMware.PowerCLI\n",
    "    Get-Module -ListAvailable | where Name -match VMware\n",
    "}\n",
    "Set-PowerCLIConfiguration -Scope User -ParticipateInCEIP $true -Confirm:$false | format-table\n",
    "Set-PowerCLIConfiguration -Scope User -InvalidCertificateAction Ignore -Confirm:$false | format-table"
   ]
  },
  {
   "cell_type": "markdown",
   "metadata": {},
   "source": [
    "## Entering credential for SimpliVity Controller\n",
    "\n",
    "Username is your login in format of **root**  (which is assigned at the beginning of this lab)<br>\n",
    "\n",
    "Password is your password provided for Discover Virtual Event 2020 which is **vmware** <br>"
   ]
  },
  {
   "cell_type": "code",
   "execution_count": null,
   "metadata": {},
   "outputs": [],
   "source": [
    "# Create credential for VMware vCenter that is related to the SimpliVity\n",
    "$hms = \"16.31.86.185\"\n",
    "$hms_username = \"root\"\n",
    "$hms_password = \"vmware\"\n",
    "$mva_ip = \"16.31.87.101\"\n",
    "$secPasswd = ConvertTo-SecureString $hms_password -AsPlainText -Force\n",
    "$cred = New-Object System.Management.Automation.PSCredential ($hms_username, $secPasswd)\n",
    "$cred"
   ]
  },
  {
   "cell_type": "markdown",
   "metadata": {},
   "source": [
    "### Create both sessions to SimpliVity and vCenter and obtain the required Tokens"
   ]
  },
  {
   "cell_type": "code",
   "execution_count": null,
   "metadata": {},
   "outputs": [],
   "source": [
    "# Obtain SimpliVity token using the credential provided and SimpliVity module will handle token expiration\n",
    "\n",
    "$SVTtoken = Connect-SVT -OVC $mva_ip -Credential $cred\n",
    "$SVTtoken"
   ]
  },
  {
   "cell_type": "code",
   "execution_count": null,
   "metadata": {},
   "outputs": [],
   "source": [
    "# Connect to this webinar federation vCenter \n",
    "$hmsToken = connect-VIserver -Server $hms -Cred $cred -Force\n",
    "$hmsToken"
   ]
  },
  {
   "cell_type": "markdown",
   "metadata": {},
   "source": [
    "### SimpliVity federation content from HPESimpliVity module using the Get-SVTvm cmdlet"
   ]
  },
  {
   "cell_type": "code",
   "execution_count": null,
   "metadata": {},
   "outputs": [],
   "source": [
    "Get-SVTvm | format-table -Property VMname,ClusterName,DataCenterName -autosize"
   ]
  },
  {
   "cell_type": "markdown",
   "metadata": {},
   "source": [
    "### SimpliVity federation content from the VMware.PowerCLI module using Get-VM cmdlet. \n",
    "<div class=\"alert alert-block alert-success\">\n",
    "<b>READ FIRST!</b> Using the PowerCLI Get-VM commandlet, you can display the list of the VM and the associated clustername and datacenter name including each of the OVC.\n",
    "</div>"
   ]
  },
  {
   "cell_type": "code",
   "execution_count": null,
   "metadata": {},
   "outputs": [],
   "source": [
    "Get-VM | Sort-Object -Property Name | format-table -Property Name,@{Name=’ClusterName’;Expression={$_.VMHost.Parent}},@{Name='DatacenterName';Expression={$_.VMHost.parent.parentfolder.parent}}"
   ]
  },
  {
   "cell_type": "markdown",
   "metadata": {},
   "source": [
    "### Let's discover a VM named Ubuntu-vdbench-* located at the DataCenter CCP_Virt_0000 "
   ]
  },
  {
   "cell_type": "code",
   "execution_count": null,
   "metadata": {},
   "outputs": [],
   "source": [
    "$VM = Get-SVTvm -Name 'Ubuntu-vdbench-*' | where-Object DataCenterName -match CCP_Virt_0000 | select-Object -First 1\n",
    "$VM "
   ]
  },
  {
   "cell_type": "markdown",
   "metadata": {},
   "source": [
    "### I am using the current time to create the cloned VM name"
   ]
  },
  {
   "cell_type": "code",
   "execution_count": null,
   "metadata": {},
   "outputs": [],
   "source": [
    "$NewVMname = 'My_VM_' + (Get-Date -Format FileDateTime).ToString()\n",
    "$NewVMname"
   ]
  },
  {
   "cell_type": "markdown",
   "metadata": {},
   "source": [
    "### Let's clone the template to the VM with the new name\n",
    "- This operation can take up to 20 seconds\n",
    "- Please select the LasVegas vCenter and observed the clone process and validate that the VM cloned succesfully"
   ]
  },
  {
   "cell_type": "code",
   "execution_count": null,
   "metadata": {},
   "outputs": [],
   "source": [
    "$Status = New-SVTclone -VmName $VM.VMname -CloneName $NewVMname\n",
    "$Status\n",
    "Get-SVTtask -ID $Status.TaskID"
   ]
  },
  {
   "cell_type": "markdown",
   "metadata": {},
   "source": [
    "### Let's power up the newly cloned VM and wait until the VM state is *PoweredON*"
   ]
  },
  {
   "cell_type": "code",
   "execution_count": null,
   "metadata": {},
   "outputs": [],
   "source": [
    "$vmup = Get-VM -Name $NewVMname\n",
    "if ($vmup.PowerState -eq \"PoweredOff\") {\n",
    "    Write-Output \"Demo VM $vmup is Switching ON\"\n",
    "    Start-VM -VM $vmup -Confirm:$false\n",
    "    $vmup | Get-VMQuestion | Set-VMQuestion -Option \"I copied it\" -Confirm:$false\n",
    "}\n",
    "$vmup"
   ]
  },
  {
   "cell_type": "markdown",
   "metadata": {},
   "source": [
    "### But hold on, the OS is not completely booted-up yet. We are using the VMware *toolStatus* to ensure that it's really ready"
   ]
  },
  {
   "cell_type": "code",
   "execution_count": null,
   "metadata": {},
   "outputs": [],
   "source": [
    "Do { \n",
    "    $toolsStatus = (Get-VM -Name $NewVMname).extensiondata.Guest.ToolsStatus\n",
    "    write-Output $toolsStatus\n",
    "    start-sleep -Seconds 1\n",
    "} until ($toolsStatus -ne \"toolsNotRunning\")"
   ]
  },
  {
   "cell_type": "markdown",
   "metadata": {},
   "source": [
    "### Conclusion: Combining multiple modules for different components is key to agility!"
   ]
  },
  {
   "cell_type": "code",
   "execution_count": null,
   "metadata": {},
   "outputs": [],
   "source": [
    "Get-VM -Name $NewVMname | format-table -autosize"
   ]
  },
  {
   "cell_type": "markdown",
   "metadata": {},
   "source": [
    "# Continue now to Lab 3: Python Basic Example\n",
    "Description: In this intro we will be using Python to connect to the REST API endpoint and retrieve an authentication token to perform another exercise.\n",
    "\n",
    "* [Lab 3](PythonBasicExample.ipynb)\n",
    "\n",
    "# Or return back to the Introduction Notebook\n",
    "Description: This will allow you to try other notebooks.\n",
    "\n",
    "* [Introduction](Introduction.ipynb)"
   ]
  },
  {
   "cell_type": "code",
   "execution_count": null,
   "metadata": {},
   "outputs": [],
   "source": []
  }
 ],
 "metadata": {
  "kernelspec": {
   "display_name": "PowerShell",
   "language": "powershell",
   "name": "powershell"
  },
  "language_info": {
   "codemirror_mode": "shell",
   "file_extension": ".ps1",
   "mimetype": "text/x-sh",
   "name": "powershell"
  }
 },
 "nbformat": 4,
 "nbformat_minor": 4
}
