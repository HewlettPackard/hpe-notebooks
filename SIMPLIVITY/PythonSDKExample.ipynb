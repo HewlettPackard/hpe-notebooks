{
 "cells": [
  {
   "cell_type": "markdown",
   "metadata": {},
   "source": [
    "## SimpliVity Python SDK"
   ]
  },
  {
   "cell_type": "markdown",
   "metadata": {},
   "source": [
    "SimpliVity provides REST APIs for almost all of its resources. This gives an opportunity for users to manipulate any Symplivity REST API resources  using their favorite programming languages to automate their work.\n",
    "\n",
    "The SimpliVity Python SDK is here to help the Python developers by handling most of the difficult parts of accessing REST APIs, like authentication, token management,etc.\n",
    "\n",
    "SimpliVity Python SDK Githublink link : https://github.com/HewlettPackard/simplivity-python<br>\n",
    "Pypi link                             : https://pypi.org/project/simplivity/\n",
    "\n",
    "### Installation\n",
    "##### From source\n",
    "  Either:<br><br>\n",
    "      git clone https://github.com/HewlettPackard/simplivity-python.git<br>\n",
    "      cd simplivity-python<br>\n",
    "      python setup.py install --user  # to install in the user directory (~/.local)<br>\n",
    "      sudo python setup.py install    # to install globally<br><br>\n",
    "  Or if using PIP:<br><br>\n",
    "      git clone https://github.com/HewlettPackard/simplivity-python.git<br>\n",
    "      cd simplivity-python<br>\n",
    "      pip install .\n",
    "\n",
    "##### From Pypi package manager\n",
    "      pip install simplivity\n",
    "    \n",
    "<div class=\"alert alert-block alert-success\">\n",
    "<b>READ FIRST:</b> You don't need to install the SimpliVity Python SDK module because it was installed by administrator.<br>\n",
    "However, this line of code will be required for environments outside of this class.\n",
    "</div>"
   ]
  },
  {
   "cell_type": "markdown",
   "metadata": {},
   "source": [
    "# pip install simplivity"
   ]
  },
  {
   "cell_type": "markdown",
   "metadata": {},
   "source": [
    "#### Import SimpliVity package"
   ]
  },
  {
   "cell_type": "code",
   "execution_count": null,
   "metadata": {},
   "outputs": [],
   "source": [
    "import simplivity\n",
    "import json"
   ]
  },
  {
   "cell_type": "markdown",
   "metadata": {},
   "source": [
    "#### Create an OVC client by passing the OVC IP, username and passord.<br> This OVC client will be used to access the SimpliVity resources(vm, policy, backup,etc.) and do resource specific operations."
   ]
  },
  {
   "cell_type": "code",
   "execution_count": null,
   "metadata": {},
   "outputs": [],
   "source": [
    "from simplivity.ovc_client import OVC\n",
    "\n",
    "config = {\n",
    "    \"ip\": \"16.31.87.101\",\n",
    "    \"credentials\": {\n",
    "        \"username\": \"root\",\n",
    "        \"password\": \"vmware\"\n",
    "    }\n",
    "}\n",
    "\n",
    "# Creates an OVC client \n",
    "ovc = OVC(config)"
   ]
  },
  {
   "cell_type": "markdown",
   "metadata": {},
   "source": [
    "#### Create a virtual machine resource client and do a get_all operation to get all the VMs available."
   ]
  },
  {
   "cell_type": "code",
   "execution_count": null,
   "metadata": {},
   "outputs": [],
   "source": [
    "# Create VM resource client\n",
    "machines = ovc.virtual_machines\n",
    "\n",
    "# Get all VM resources and print it's data\n",
    "vms = machines.get_all()\n",
    "for vm in vms:\n",
    "    json_string = json.dumps(vm.data, indent=4)\n",
    "    print(json_string)\n"
   ]
  },
  {
   "cell_type": "markdown",
   "metadata": {},
   "source": [
    "### Get a Virtual Machine by its name and do a clone operation on it. Please change Clone_new_vmX with X as the hackerX\n",
    "<div class=\"alert alert-block alert-danger\">\n",
    "<b>READ FIRST</b>**Please replace XX with the number XX from username studentXX** for clone to succeed(critical).\n",
    "</div>"
   ]
  },
  {
   "cell_type": "code",
   "execution_count": null,
   "metadata": {},
   "outputs": [],
   "source": [
    "# Get a VM resource by it's name and create a clone of that VM\n",
    "vm = machines.get_by_name(\"tinyvm32_0000_0000_0000_0001\")\n",
    "\n",
    "cloned_vm = vm.clone(\"clone_new_student$$I\")"
   ]
  },
  {
   "cell_type": "markdown",
   "metadata": {},
   "source": [
    "### Create a policy resource client and get all policies using the client."
   ]
  },
  {
   "cell_type": "code",
   "execution_count": null,
   "metadata": {},
   "outputs": [],
   "source": [
    "# Create policy resource client\n",
    "policies = ovc.policies\n",
    "\n",
    "# Get all policies available and print its data\n",
    "all_policies = policies.get_all()\n",
    "for policy in all_policies:\n",
    "    json_string = json.dumps(policy.data, indent=4)\n",
    "    print(json_string)"
   ]
  },
  {
   "cell_type": "markdown",
   "metadata": {},
   "source": [
    "The current SimpliVity Python SDK does not support all resources.<br>\n",
    "We welcome your contributions to the Python SDK for HPE SimpliVity.\n",
    "### Other language bindings/libraries\n",
    "https://github.com/HewlettPackard/simplivity-go<br>\n",
    "https://github.com/HewlettPackard/simplivity-ansible"
   ]
  },
  {
   "cell_type": "markdown",
   "metadata": {},
   "source": [
    "# Continue now to Lab 5: SimpliVity Ansible Toolkit Example\n",
    "Description: This will allow you to exercise Ansible for desired state operations.\n",
    "\n",
    "* [Lab 5](AnsibleBasicExamples.ipynb)\n",
    "\n",
    "# Continue back to the Introduction Notebook\n",
    "Description: This will allow you to try other notebooks.\n",
    "\n",
    "* [Introduction](Introduction.ipynb)"
   ]
  }
 ],
 "metadata": {
  "kernelspec": {
   "display_name": "Python 3",
   "language": "python",
   "name": "python3"
  },
  "language_info": {
   "codemirror_mode": {
    "name": "ipython",
    "version": 3
   },
   "file_extension": ".py",
   "mimetype": "text/x-python",
   "name": "python",
   "nbconvert_exporter": "python",
   "pygments_lexer": "ipython3",
   "version": "3.6.9"
  }
 },
 "nbformat": 4,
 "nbformat_minor": 4
}
