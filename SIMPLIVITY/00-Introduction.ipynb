{
 "cells": [
  {
   "cell_type": "markdown",
   "metadata": {},
   "source": [
    "![HPEDEV HackShack](Pictures/hpedevlogo-NB.jpg) <nt>\n",
    "# Welcome to the HPEDEV Hack Shack<br>\n",
    "Powered by [HPE DEV Team](https://hpedev.io)<br>\n",
    "![hackshackdisco.png](Pictures/hackshackdisco.png)\n",
    "# Speaker: [Ron Dharma](mailto:rond@hpe.com), [Sijeesh Kattumunda](mailto:sijeesh.kattumunda@hpe.com).<br>\n",
    "Find RonD on [Twitter](https://twitter.com/ronrdharma), [LinkedIn](https://www.linkedin.com/in/rondharma).<br>\n",
    "Find Sijeesh on [Twitter](https://twitter.com/sijemsc), [LinkedIn](https://www.linkedin.com/in/sijeka). <br>\n",
    "### Introduction to HPE SimpliVity Workshop<nt>\n",
    "In this workshop you will go through basic implementation scenario using SimpliVity REST API with a couple of scripting languages such as PowerShell and Python. Additionally, you will also explore the SimpliVity's Ansible module to create desired state configuration for your infrastructure automation<br>\n",
    "### Lab Flow <nt>\n",
    "These HackShack Workshops are delivered through a central point that allows a portable, dynamic version of the lab guides. We are now leveraging a JupyterHub server on which all the different labs guides will be stored in a Notebook format (*.ipynb). Notebooks are accessible from the internet for the event.<br>\n",
    "The notebooks can be downloaded on to your own laptop for further usage or editing. In order to use  them, you will need to install the Jupyter Notebook application available [here](https://jupyter.org/install).<br>\n",
    "A Beginner's Guide is also available [here](https://jupyter-notebook-beginner-guide.readthedocs.io/en/latest/what_is_jupyter.html)<br>\n",
    "Please listen now to the instructor guidelines on how to use this notebook and follow along as the different steps are covered<br>\n",
    "Enjoy the labs ! :-)<br>\n",
    "# Documentation and Tools<br>\n",
    "### REST API documentation for HPE SimpliVity is available on [HPE SimpliVity REST API](https://developer.hpe.com/platform/hpe-simplivity/home).<br>\n",
    "The HPE Simplivity that you are using today is SimpliVity federation consisting of __3 different datacenters, 4 different clusters, total of 6+2+2+2 (12 nodes)__ as depicted in this picture.\n",
    "    \n",
    "![HPE-Dev-connected-cluster.gif](Pictures/HPE-Dev-connected-cluster.gif) <br>\n",
    "__Here is how the nodes are connected together__\n",
    "![HPE-Dev-HostsCluster.gif](Pictures/HPE-Dev-HostsClusters.gif)<br>\n",
    "\n",
    "# Lab 1: PowerShell Example.\n",
    "Description: In this introduction, we will be using PowerShell to connnect to the REST API endpoint and retrieve an authentication token that will be used for subsequent requests.\n",
    "\n",
    "* [Lab 1](./PowerShellExample.ipynb)\n",
    "\n",
    "# Lab 2: PowerShell Module Example\n",
    "Description: Let us use both SimpliVity and VMware modules to perform cloning and power-on commands on a designated VM.\n",
    "\n",
    "* [Lab 2](./PowerShellModuleExample.ipynb)\n",
    "\n",
    "# Lab 3: Python Basic Example\n",
    "Description: In this introduction, we will be using Python to connect to REST API endpoint and retrieve an authentication token to perform an exercise.\n",
    "\n",
    "* [Lab 3](./PythonBasicExample.ipynb)\n",
    "\n",
    "# Lab 4: Python Module Example\n",
    "Description: This demo of the python binding allows you to use the released Python module to support complex operations.\n",
    "\n",
    "* [Lab 4](./PythonSDKExample.ipynb)\n",
    "\n",
    "# Lab 5: Ansible Toolkit Example\n",
    "Description: This demo of multiple playbooks enable you to do SimpliVity DevOps using Red Hat Ansible.\n",
    "    \n",
    "* [Lab 5](./AnsibleBasicExamples.ipynb)\n"
   ]
  },
  {
   "cell_type": "markdown",
   "metadata": {},
   "source": [
    "# Let's conclude now and wrap up your lab!\n",
    "* [Conclusion](./Conclusion.ipynb)"
   ]
  }
 ],
 "metadata": {
  "kernelspec": {
   "display_name": "PowerShell",
   "language": "powershell",
   "name": "powershell"
  },
  "language_info": {
   "codemirror_mode": "shell",
   "file_extension": ".ps1",
   "mimetype": "text/x-sh",
   "name": "powershell"
  }
 },
 "nbformat": 4,
 "nbformat_minor": 4
}