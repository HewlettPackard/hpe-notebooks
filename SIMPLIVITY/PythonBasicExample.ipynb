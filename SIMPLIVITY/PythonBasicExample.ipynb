{
 "cells": [
  {
   "cell_type": "markdown",
   "metadata": {},
   "source": [
    "# Using SimpliVity REST API with Python\n",
    "\n",
    "- This sample Python code performs user authentication.\n",
    "- It then obtains the token from SimpliVity through a POST to the SimpliVity OVC or MVA\n",
    "- Additionally, this sample code will perform the clone from tinyvm32_0000_0000_0000_0000 to *studentX_clone*\n",
    "\n",
    "<div class=\"alert alert-block alert-danger\">\n",
    "<b>READ FIRST</b> Please replace XX with the number XX from username studentXX for the clone operation to succeed(critical).\n",
    "</div>\n",
    "\n",
    "This sample use modules provided by Phyton 3.7"
   ]
  },
  {
   "cell_type": "code",
   "execution_count": null,
   "metadata": {},
   "outputs": [],
   "source": [
    "import pycurl\n",
    "import json\n",
    "import base64\n",
    "import urllib\n",
    "from io import BytesIO\n",
    "import requests\n",
    "import sys, getopt"
   ]
  },
  {
   "cell_type": "markdown",
   "metadata": {},
   "source": [
    "### Reminder to change the XX to the number assigned to you as part of the studentXX"
   ]
  },
  {
   "cell_type": "code",
   "execution_count": null,
   "metadata": {},
   "outputs": [],
   "source": [
    "#IP or Hostname of OVC or MVA\n",
    "ovc_ip = '16.31.87.101'\n",
    "\n",
    "#Username and Password\n",
    "ovc_username = 'root'\n",
    "ovc_password = 'vmware'\n",
    "\n",
    "# VM to clone is one of the demo VM\n",
    "sourcevmName = 'tinyvm32_0000_0000_0000_0000'\n",
    "clonevmName = \"student$$I_clone\""
   ]
  },
  {
   "cell_type": "markdown",
   "metadata": {},
   "source": [
    "### Function to perform POST to get the Access token"
   ]
  },
  {
   "cell_type": "code",
   "execution_count": null,
   "metadata": {},
   "outputs": [],
   "source": [
    "#Fuction using pyCurl to post to SVT REST using url encoded data\n",
    "\n",
    "def post_SVTREST(url, data, header):\n",
    "   rdata = BytesIO()\n",
    "   pdata = urllib.parse.urlencode(data)\n",
    "   c = pycurl.Curl()\n",
    "   c.setopt(pycurl.SSL_VERIFYPEER, 0)\n",
    "   c.setopt(pycurl.SSL_VERIFYHOST, 0)\n",
    "   c.setopt(pycurl.URL, url)\n",
    "   c.setopt(pycurl.HTTPHEADER, header)\n",
    "   c.setopt(c.WRITEFUNCTION, rdata.write)\n",
    "   c.setopt(pycurl.POST, 1)\n",
    "   c.setopt(pycurl.POSTFIELDS, pdata)\n",
    "   c.perform()\n",
    "   c.close()\n",
    "   jdata = json.loads(rdata.getvalue())\n",
    "   return (jdata)"
   ]
  },
  {
   "cell_type": "code",
   "execution_count": null,
   "metadata": {},
   "outputs": [],
   "source": [
    "#Get Access Token\n",
    "url = 'https://'+ ovc_ip +'/api/oauth/token'\n",
    "data = {'username': ovc_username,'password': ovc_password,'grant_type':'password'}\n",
    "svtuser = bytes('simplivity:','utf8')\n",
    "svtauth = bytes('Authorization:  Basic ','utf8') + base64.standard_b64encode(svtuser)\n",
    "htoken = ['Accept: application/json', svtauth ]\n",
    "svttoken = post_SVTREST(url, data, htoken)\n",
    "print ('SVT token', json.dumps(svttoken, indent=4, sort_keys=True))\n",
    "accesstoken = 'Authorization: Bearer ' + svttoken[\"access_token\"]\n",
    "print ('SVT access token', accesstoken)"
   ]
  },
  {
   "cell_type": "markdown",
   "metadata": {},
   "source": [
    "### Function to perform GET to get list of objects"
   ]
  },
  {
   "cell_type": "code",
   "execution_count": null,
   "metadata": {},
   "outputs": [],
   "source": [
    "#Funtion using pyCurl to get from SVT REST\n",
    "\n",
    "def get_SVTREST(url, header):\n",
    "   rdata = BytesIO()\n",
    "   c = pycurl.Curl()\n",
    "   c.setopt(pycurl.SSL_VERIFYPEER, 0)\n",
    "   c.setopt(pycurl.SSL_VERIFYHOST, 0)\n",
    "   c.setopt(pycurl.URL, url)\n",
    "   c.setopt(pycurl.HTTPHEADER, header)\n",
    "   c.setopt(c.WRITEFUNCTION, rdata.write)\n",
    "   c.perform()\n",
    "   c.close()\n",
    "   jdata = json.loads(rdata.getvalue())\n",
    "   return (jdata)"
   ]
  },
  {
   "cell_type": "code",
   "execution_count": null,
   "metadata": {},
   "outputs": [],
   "source": [
    "#Get VM Id of Source VM\n",
    "\n",
    "htoken = ['Accept: application/json', accesstoken]\n",
    "url = 'https://'+ ovc_ip +'/api/virtual_machines?show_optional_fields=false&name=' +  sourcevmName\n",
    "SVTvms = get_SVTREST(url, htoken)\n",
    "vm_id = SVTvms['virtual_machines'][0]['id']"
   ]
  },
  {
   "cell_type": "code",
   "execution_count": null,
   "metadata": {},
   "outputs": [],
   "source": [
    "SVTvms"
   ]
  },
  {
   "cell_type": "code",
   "execution_count": null,
   "metadata": {},
   "outputs": [],
   "source": [
    "vm_id"
   ]
  },
  {
   "cell_type": "markdown",
   "metadata": {},
   "source": [
    "### Function to perform cloning "
   ]
  },
  {
   "cell_type": "code",
   "execution_count": null,
   "metadata": {},
   "outputs": [],
   "source": [
    "#Fuction using pyCurl to post to SVT REST using json data\n",
    "\n",
    "def jpost_SVTREST(url, data, header):\n",
    "   rdata = BytesIO()\n",
    "   c = pycurl.Curl()\n",
    "   c.setopt(pycurl.SSL_VERIFYPEER, 0)\n",
    "   c.setopt(pycurl.SSL_VERIFYHOST, 0)\n",
    "   c.setopt(pycurl.URL, url)\n",
    "   c.setopt(pycurl.HTTPHEADER, header)\n",
    "   c.setopt(c.WRITEFUNCTION, rdata.write)\n",
    "   c.setopt(pycurl.POST, 1)\n",
    "   c.setopt(pycurl.POSTFIELDS, data)\n",
    "   c.perform()\n",
    "   c.close()\n",
    "   jdata = json.loads(rdata.getvalue())\n",
    "   return (jdata)"
   ]
  },
  {
   "cell_type": "code",
   "execution_count": null,
   "metadata": {},
   "outputs": [],
   "source": [
    "#Clone Source VM to Clone\n",
    "\n",
    "url = 'https://'+ ovc_ip +'/api/virtual_machines/'+ vm_id +'/clone'\n",
    "data = {\"app_consistent\": \"false\", \"virtual_machine_name\": clonevmName}\n",
    "sdata = json.dumps(data)\n",
    "htoken = ['Accept: application/json', 'Content-Type: application/vnd.simplivity.v1+json', accesstoken ]\n",
    "vmclone = jpost_SVTREST(url, sdata, htoken)"
   ]
  },
  {
   "cell_type": "code",
   "execution_count": null,
   "metadata": {},
   "outputs": [],
   "source": [
    "vmclone\n"
   ]
  },
  {
   "cell_type": "markdown",
   "metadata": {},
   "source": [
    "#### Conclusion: Python provides comprehensive methods to perform extensive SimpliVity REST API operation"
   ]
  },
  {
   "cell_type": "markdown",
   "metadata": {},
   "source": [
    "# Continue now to Lab 4: Python Module Example\n",
    "Description: This will allow us to use the released Python module to support complex operations.\n",
    "\n",
    "* [Lab 4](PythonSDKExample.ipynb)\n",
    "\n",
    "\n",
    "# Or return back to the Introduction Notebook\n",
    "Description: This will allow you to try other notebooks.\n",
    "\n",
    "* [Introduction](Introduction.ipynb)"
   ]
  }
 ],
 "metadata": {
  "kernelspec": {
   "display_name": "Python 3",
   "language": "python",
   "name": "python3"
  },
  "language_info": {
   "codemirror_mode": {
    "name": "ipython",
    "version": 3
   },
   "file_extension": ".py",
   "mimetype": "text/x-python",
   "name": "python",
   "nbconvert_exporter": "python",
   "pygments_lexer": "ipython3",
   "version": "3.6.9"
  }
 },
 "nbformat": 4,
 "nbformat_minor": 4
}
