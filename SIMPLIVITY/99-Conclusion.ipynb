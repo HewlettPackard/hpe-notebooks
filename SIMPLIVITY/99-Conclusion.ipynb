{
 "cells": [
  {
   "cell_type": "markdown",
   "metadata": {},
   "source": [
    "![HPEDEV HackShack](https://developer.hpe.com/img/hpe-dev-logo-mark-anim.svg?1580730675069 \"HPE DEV Hack Shack\")\n",
    "\n",
    "# Thank you for visiting the Hack Shack\n",
    "\n",
    "Powered by [HPE DEV Team](hpedev.io)\n",
    "\n",
    "\n",
    "# Conclusion\n",
    "\n",
    "During this workshop, you became familiar with the basics of SimpliVity REST API, discovered that SimpliVity supports multiple different language bindings<br>\n",
    "and you learned how to increase your automation power when you combine the SimpliVity module with the rest of the modules required for your IT operations\n",
    "\n",
    "Congratulations!\n",
    "\n",
    "# Final steps\n",
    "\n",
    "### Please take a moment to fill out our [survey](https://forms.office.com/Pages/ResponsePage.aspx?id=YSBbEGm2MUuSrCTTBNGV3KHzFdd987lBoQATWJq45DdUNkJRM0lPRUNOMVJWS09XVUMyS09LNlM5NS4u).\n",
    "\n",
    "### Join the HPE DEV Community by [signing up](https://developer.hpe.com/event/hpe-discover-us-2020?listid=11647678) to the HPE DEV Newsletter and Participate to our raffle to win !! \n",
    "\n",
    "### Learn more about the HPE DEV Community\n",
    "![QRCode](Pictures/QRCode-HPEDEV.PNG)\n",
    "\n",
    "### Please make sure you use `File -> Log Out` menu to terminate your workshop session.\n",
    "\n",
    "# Thank you\n",
    "![Thank You](Pictures/grommet.jpg)"
   ]
  }
 ],
 "metadata": {
  "kernelspec": {
   "display_name": "Bash",
   "language": "bash",
   "name": "bash"
  },
  "language_info": {
   "codemirror_mode": "shell",
   "file_extension": ".sh",
   "mimetype": "text/x-sh",
   "name": "bash"
  }
 },
 "nbformat": 4,
 "nbformat_minor": 4
}
