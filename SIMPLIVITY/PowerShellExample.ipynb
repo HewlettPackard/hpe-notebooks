{
 "cells": [
  {
   "cell_type": "markdown",
   "metadata": {},
   "source": [
    "# SimpliVity PowerShell REST API Example\n",
    "\n",
    "This sample of Windows PowerShell code performs authentication to the SimpliVity REST API endpoint which is either an OVC(Omnistack-Virtual-Controller) or the MVA(Management-Virtual-Appliance) to the designated federation. <br>\n",
    "You will be able to use the assigned username and password to perform a demo of this snippet of code. If you take a look at the Introduction notebook, opened along with this JupyterHub notebook, then you can see the datacenter that <br>\n",
    "you are working on. For today's exercise, you will be using one of the IP addresses from the OVC in the 1st datacenter, and 1st Cluster.\n",
    "\n",
    "> Note that the example in this Lab is based on **Powershell Core v7.0** running on Linux \n",
    "\n",
    "\n",
    "## SimpliVity Backup list and Rename\n",
    "Once the access token is acquired, you should be able to obtain the SimpliVity backup of backup list and perform\n",
    "the rename of the SimpliVity backup. \n",
    "\n",
    "- **Note** The access token will expire after 10 minutes of no activity or after 24 hours with activity.\n",
    "\n",
    "- **Note** The POST method in SimpliVity is asynchronous, hence the user must use the Task ID returned to check on completion as shown in changing the backup name as shown in the example below\n",
    "![IP-addreses](Pictures/HPEDEV-OVC-IP-Addresses.gif)\n",
    "### Let's load up the credential (root/vmware) and the IP address of the OVC(16.31.87.101) <nt>"
   ]
  },
  {
   "cell_type": "code",
   "execution_count": 1,
   "metadata": {},
   "outputs": [
    {
     "name": "stdout",
     "output_type": "stream",
     "text": []
    }
   ],
   "source": [
    "# Base URL for the SimpliVity authentication\n",
    "$Base_URL = \"https://16.31.87.101/api/\"\n",
    "\n",
    "# Set the usernamd and password\n",
    "# change the X to the number corresponding to your assigned username studentXX\"\n",
    "$hms_username = 'root'\n",
    "$hms_password = 'vmware'\n",
    "\n",
    "# Allow the use of self-signed certificates and configure the SSL tunnel with TLS 1.2\n",
    "[System.Net.ServicePointManager]::ServerCertificateValidationCallback = { $True }\n",
    "[System.Net.ServicePointManager]::SecurityProtocol = [Net.SecurityProtocolType]::Tls12"
   ]
  },
  {
   "cell_type": "markdown",
   "metadata": {},
   "source": [
    "### Authenticate user and create structure required to generate access token"
   ]
  },
  {
   "cell_type": "code",
   "execution_count": null,
   "metadata": {},
   "outputs": [],
   "source": [
    "# Create a base64 encoding for HTTP Authentication.\n",
    "$base64AuthInfo = [Convert]::ToBase64String([Text.Encoding]::ASCII.GetBytes((\"{0}:{1}\" -f \"simplivity\",\"\")))\n",
    "Write-Output \"Base64AuthInfo= $base64AuthInfo `n\" \n",
    "\n",
    "# Create a JSON body with username, password, and grant_type.\n",
    "$body = @{grant_type='password';username=$hms_username;password=$hms_password}\n",
    "Write-Output \"REST Body=\", $body, \"`n\"\n",
    "\n",
    "# Authenticate the user and create the structure to generate an access token.\n",
    "$url = $BASE_URL+'oauth/token'\n",
    "Write-Output \"URL= $url`n\"\n",
    "$header = @{Authorization=(\"Basic {0}\" -f $base64AuthInfo)}\n",
    "Write-Output \"REST Header=\", $header, \"`n\""
   ]
  },
  {
   "cell_type": "code",
   "execution_count": null,
   "metadata": {},
   "outputs": [],
   "source": [
    "# Invoke the REST API and\n",
    "$response = Invoke-RestMethod -SkipCertificateCheck -Uri $url -Headers $header -Body $body -Method Post\n",
    "$response"
   ]
  },
  {
   "cell_type": "code",
   "execution_count": null,
   "metadata": {},
   "outputs": [],
   "source": [
    "# Obtain the access token\n",
    "$access_token = $response.access_token"
   ]
  },
  {
   "cell_type": "markdown",
   "metadata": {},
   "source": [
    "### Use the token to get the list of the backups inside the LasVegas Fed"
   ]
  },
  {
   "cell_type": "code",
   "execution_count": null,
   "metadata": {},
   "outputs": [],
   "source": [
    "# Add the access_token to the header.\n",
    "$header = @{Authorization='Bearer '+$access_token}"
   ]
  },
  {
   "cell_type": "code",
   "execution_count": null,
   "metadata": {},
   "outputs": [],
   "source": [
    "# Issue a GET request: GET /backups.\n",
    "$url = $BASE_URL+'backups'\n",
    "$backups = Invoke-RestMethod -Header $header -Uri $url -SkipCertificateCheck"
   ]
  },
  {
   "cell_type": "code",
   "execution_count": null,
   "metadata": {},
   "outputs": [],
   "source": [
    "$backups | select -expandproperty backups | select Name,virtual_machine_name,type,datastore_name -first 40 | format-table"
   ]
  },
  {
   "cell_type": "code",
   "execution_count": null,
   "metadata": {},
   "outputs": [],
   "source": [
    "# Obtain the backup ID of the nth backup from the list where nth is random no from 1 to 40\n",
    "$count = get-random -Maximum 40 -Minimum 1\n",
    "$backupid = $backups.backups[$count].id\n",
    "$backupName = $backups.backups[$count].Name\n",
    "write-output ($count, $backupid, $backupName)"
   ]
  },
  {
   "cell_type": "markdown",
   "metadata": {},
   "source": [
    "### Use the token to change the name of the nth backup to today's date inside the LasVegas Fed"
   ]
  },
  {
   "cell_type": "code",
   "execution_count": null,
   "metadata": {},
   "outputs": [],
   "source": [
    "# Create a JSON body for the rename action. The name is combination of the hms_user_name and the date\n",
    "$date = get-date \n",
    "$body = @{backup_name=(\"{0}: {1}\" -f \"student$$I\", $date)}\n",
    "$body = $body | ConvertTo-Json\n",
    "$body"
   ]
  },
  {
   "cell_type": "code",
   "execution_count": null,
   "metadata": {},
   "outputs": [],
   "source": [
    "# Form the URI for the changing the name\n",
    "$url = $BASE_URL+'backups/'\n",
    "$url += $backupid\n",
    "$url += '/rename'"
   ]
  },
  {
   "cell_type": "code",
   "execution_count": null,
   "metadata": {},
   "outputs": [],
   "source": [
    "# Issue the POST operation and expect a task object in return.\n",
    "\n",
    "$response = Invoke-RestMethod -SkipCertificateCheck -Header $header -Uri $url -Method Post -Body $body -ContentType 'application/vnd.simplivity.v1+json'\n",
    "$response.task.id"
   ]
  },
  {
   "cell_type": "code",
   "execution_count": null,
   "metadata": {},
   "outputs": [],
   "source": [
    "$response.task"
   ]
  },
  {
   "cell_type": "code",
   "execution_count": null,
   "metadata": {},
   "outputs": [],
   "source": [
    "# Monitor the status of the rename operation by using a loop to query the task while this task is IN_PROGRESS.\n",
    "# The state field in the JSON response body indicates the status.\n",
    "\n",
    "$taskid = $response.task.id\n",
    "$state = $response.task.state\n",
    "$url = $BASE_URL+'tasks/'+$taskid\n",
    "  while ($state -eq 'IN_PROGRESS') {\n",
    "    # Wait one second and try again.\n",
    "    Start-Sleep -s 0.1\n",
    "    $response = Invoke-RestMethod -SkipCertificateCheck -Header $header -Uri $url\n",
    "    # Print out the task result.\n",
    "    $state = $response.task.state\n",
    "    $state\n",
    "  }"
   ]
  },
  {
   "cell_type": "markdown",
   "metadata": {},
   "source": [
    "### Let's take a look at the list of the backups of the changed names"
   ]
  },
  {
   "cell_type": "code",
   "execution_count": null,
   "metadata": {},
   "outputs": [],
   "source": [
    "\n",
    "# Issue a GET request: GET /backups.\n",
    "$url = $BASE_URL+'backups'\n",
    "$backups = Invoke-RestMethod -Header $header -Uri $url -SkipCertificateCheck\n",
    "$backups | select -expandproperty backups | select Name,virtual_machine_name,type,datastore_name -first 40 | format-table"
   ]
  },
  {
   "cell_type": "markdown",
   "metadata": {},
   "source": [
    "### Congratulation, you have completed Introduction to SimpliVity REST API via Powershell\n",
    "\n",
    "If you go to the lasvegasvc.demo.local, search the backups in the LasVegas Cluster with backup name to match Hacker to confirm that you now can interact with LasVegas SimpliVity fed using REST API and PowerShell\n"
   ]
  },
  {
   "cell_type": "markdown",
   "metadata": {},
   "source": [
    "### Simplivity Object models and the relationships\n",
    "\n",
    "More information on SimpliVity objects and resources are available at the https://developer.hpe.com/api/simplivity/\n",
    "\n",
    "Here is the basic diagram of the Simplivity object models\n",
    "\n",
    "![Simplivity Object](https://developer.hpe.com/uploads/media/2018/7/svt-rest-api-object-type-relationships-1532712788492.png)"
   ]
  },
  {
   "cell_type": "markdown",
   "metadata": {},
   "source": [
    "# Continue now to Lab 2: PowerShell Module Example\n",
    "Description: Let us use both Simplivity and VMware modules to perform cloning and power-on a designated VM.\n",
    "\n",
    "* [Lab 2](PowerShellModuleExample.ipynb)\n",
    "\n",
    "\n",
    "# Or Move back to the Introduction Notebook\n",
    "Description: This will allow you to try other notebooks.\n",
    "\n",
    "* [Introduction](Introduction.ipynb)"
   ]
  }
 ],
 "metadata": {
  "kernelspec": {
   "display_name": "PowerShell",
   "language": "powershell",
   "name": "powershell"
  },
  "language_info": {
   "codemirror_mode": "shell",
   "file_extension": ".ps1",
   "mimetype": "text/x-sh",
   "name": "powershell"
  }
 },
 "nbformat": 4,
 "nbformat_minor": 4
}
