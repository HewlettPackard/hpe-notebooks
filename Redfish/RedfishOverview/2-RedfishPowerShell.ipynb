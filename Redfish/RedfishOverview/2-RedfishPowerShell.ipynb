{
 "cells": [
  {
   "cell_type": "markdown",
   "metadata": {},
   "source": [
    "![HPE DEV Logo](Pictures/hpe-dev-logo.png \"HPE DEV Hack Shack\")\n",
    "\n",
    "# Hack Shack\n",
    "\n",
    "Powered by [HPE DEV Team](hpedev.io)\n",
    "\n",
    "### Speakers : Troy Heber, François Donzé\n",
    "\n",
    "### Redfish API Overview workshop\n",
    "\n",
    "Version 0.61\n",
    "\n",
    "<img src=\"https://redfish.dmtf.org/sites/default/files/DMTF_Redfish_logo_R.jpg\" alt=\"Redfish Logo\" style=\"width: 125px;\"/> \n",
    " "
   ]
  },
  {
   "cell_type": "markdown",
   "metadata": {},
   "source": [
    "## Introduction\n",
    "\n",
    "This Jupyter Notebook defines environment variables that will be used throughout the rest of the notebook. Using these variables, you will explore the Redfish resource tree and learn the session authentication mechanism using [Microsoft PowerShell](https://docs.microsoft.com/en-us/powershell/) and its native [invoke-WebRequest](https://docs.microsoft.com/en-us/powershell/module/microsoft.powershell.utility/invoke-webrequest?view=powershell-7) cmdlet against an OpenBMC simulator. Then, you will  modify a property and perform a reset of the OpenBMC before logging out.\n",
    "\n",
    "For didactic reasons, commands presented in this notebook are not optimized.\n",
    "\n",
    "## Setting the scene\n",
    "\n",
    "The following cell defines global environment variables (i.e. IP address, username, password) associated with your student ID number that is stored in variable `$Stud`. It also creates a `.json` file that contains the credentials for your OpenBMC appliance that are required to open a Redfish session. \n",
    "\n",
    "Click in the cell below and then click on the\n",
    "<img src=\"Pictures/RunButton.png\" style=\"display:inline;width=55px;height=25px\"/>\n",
    "icon to create the environment variables and the json file."
   ]
  },
  {
   "cell_type": "code",
   "execution_count": 1,
   "metadata": {},
   "outputs": [
    {
     "name": "stdout",
     "output_type": "stream",
     "text": [
      "You are Student 00\n"
     ]
    }
   ],
   "source": [
    "# Set Student ID number\n",
    "$Stud=\"00\"\n",
    "echo \"You are Student $Stud\"\n",
    "\n",
    "# OpenBMC Host\n",
    "$BmcIP = \"openbmcs:443${Stud}\"\n",
    "$BmcURI = \"https://${BmcIP}/redfish\"\n",
    "\n",
    "# OpenBMC credentials\n",
    "$user = \"student\"\n",
    "$pass = \"P@ssw0rd!\"\n",
    "\n",
    "# Convert the credentials to a base 64 encoded http Basic Auth \n",
    "$pair = \"${user}:${pass}\"\n",
    "$mybytes = [System.Text.Encoding]::ASCII.GetBytes($pair)\n",
    "$b64 = [System.Convert]::ToBase64String($mybytes)\n",
    "$basicAuthValue = \"Basic $b64\"\n",
    "$AuthHeaders = @{ Authorization = $basicAuthValue }"
   ]
  },
  {
   "cell_type": "markdown",
   "metadata": {},
   "source": [
    "## Retrieve the Redfish Service Entry point content (Root)\n",
    "\n",
    "The Redfish Service Entry point is **`/redfish/v{RedfishVersion}/`**.\n",
    "\n",
    "Run the next cell to retrieve the Redfish version(s) that are available today in your OpenBMC simulator.\n",
    "\n",
    "This request does not require any authentication."
   ]
  },
  {
   "cell_type": "code",
   "execution_count": 2,
   "metadata": {},
   "outputs": [
    {
     "name": "stdout",
     "output_type": "stream",
     "text": [
      "Attempting HTTP GET @ https://openbmcs:44300/redfish\n",
      "                                                                                                                                                                                                                                                                                                                                                                                                                                                                                                                                                                                                                                                                \n",
      "v1\n",
      "--\n",
      "/redfish/v1/\n",
      "\n"
     ]
    }
   ],
   "source": [
    "echo \"Attempting HTTP GET @ $BmcURI\"\n",
    "# HTTP GET\n",
    "$r = Invoke-WebRequest -SkipCertificateCheck -Uri $BmcURI -Method 'GET' -ErrorAction Stop\n",
    "\n",
    "# Format the JSON Body Response\n",
    "ConvertFrom-Json $r.Content "
   ]
  },
  {
   "cell_type": "markdown",
   "metadata": {},
   "source": [
    "The previous command returns only one available Redfish version for your BMC: **`v1`**. Hence, its Redfish Service Entry point is at **`/redfish/v1`**.\n",
    "\n",
    "It contains: \n",
    "\n",
    "  * Keys describing the **Root Service**: `@odata.context`, `Id`, `Name`, `RedfishVersion`, `UUID`, etc.\n",
    "  * Services and collection URIs: `AccountService`, `Managers`, `Systems`\n",
    "  * Links allowing direct access to resources beneath Root endpoints\n",
    "\n",
    "A `GET` of the Redfish Root content **does not require authentication**.\n",
    "\n",
    "Run the following PowerShell Invoke-WebRequest cmdlet to retrieve the Redfish Service Entry point content and take a look at the output.\n",
    "\n",
    "Note that the keys are scattered among services. For example, the `Id` key appears between the `Chassis` and `JsonSchemas` entry points. Other Redfish implementations (i.e. HPE iLO) may return a different output order.\n",
    "\n",
    "**Very important**: All the objects present in this output are fully described in the Redfish `ServiceRoot` schema version `v1_5_0` as mentioned in `@odata.type`. You will learn how to browse the `JsonSchemas` resources later in this notebook. \n",
    "\n",
    "The thing to remember for now is that a **single version of Redfish** holds multiple schema versions. Later, resources can be added, moved, or removed from one schema version to another."
   ]
  },
  {
   "cell_type": "code",
   "execution_count": 3,
   "metadata": {},
   "outputs": [
    {
     "name": "stdout",
     "output_type": "stream",
     "text": [
      "Attempting HTTP GET @ https://openbmcs:44300/redfish/v1\n",
      "                                                                                                                                                                                                                                                                                                                                                                                                                                                                                                                                                                                                                                                                \n",
      "@odata.id          : /redfish/v1\n",
      "@odata.type        : #ServiceRoot.v1_5_0.ServiceRoot\n",
      "AccountService     : @{@odata.id=/redfish/v1/AccountService}\n",
      "CertificateService : @{@odata.id=/redfish/v1/CertificateService}\n",
      "Chassis            : @{@odata.id=/redfish/v1/Chassis}\n",
      "Id                 : RootService\n",
      "JsonSchemas        : @{@odata.id=/redfish/v1/JsonSchemas}\n",
      "Links              : @{Sessions=}\n",
      "Managers           : @{@odata.id=/redfish/v1/Managers}\n",
      "Name               : Root Service\n",
      "RedfishVersion     : 1.9.0\n",
      "Registries         : @{@odata.id=/redfish/v1/Registries}\n",
      "SessionService     : @{@odata.id=/redfish/v1/SessionService}\n",
      "Systems            : @{@odata.id=/redfish/v1/Systems}\n",
      "Tasks              : @{@odata.id=/redfish/v1/TaskService}\n",
      "UUID               : 8a557334-4a18-4b2a-9b80-da497882408c\n",
      "UpdateService      : @{@odata.id=/redfish/v1/UpdateService}\n",
      "\n",
      "\n"
     ]
    }
   ],
   "source": [
    "\n",
    "$BmcURI = \"https://${BmcIP}/redfish/v1\"\n",
    "\n",
    "echo \"Attempting HTTP GET @ $BmcURI\"\n",
    "# HTTP GET\n",
    "$r = Invoke-WebRequest -SkipCertificateCheck -Uri $BmcURI -Method 'GET' -ErrorAction Stop\n",
    "\n",
    "# Format the JSON Body Response\n",
    "ConvertFrom-Json $r.Content "
   ]
  },
  {
   "cell_type": "markdown",
   "metadata": {},
   "source": [
    "### Resource map (highlights)\n",
    "\n",
    "The above output lists the URI End Points holding all the resources for this Redfish version. Here is a basic description of some of the most important ones:\n",
    "\n",
    "  * `AccountService`: a collection of user accounts present in this BMC.\n",
    "  * `Chassis`: a collection of chassis; physical view of the system containing global physical asset info (i.e. power, thermal). A system can have multiple chassis (e.g. HPE Superdome Flex).\n",
    "  * `Sessions`: a collection of current open sessions (ssh, https, GUI...).\n",
    "  * `Managers`: a collection of BMCs. A server can have multiple BMCs (i.e. HPE Moonshot have one iLO per SOC).\n",
    "  * `Systems`: a collection of systems; \"Logical view of the server\" with resources like Model, Serial number, Boot Order, NIC MAC, BIOS parameters ... A server can have multiple systems (i.e. HPE Superdome Flex can have multiple hardware partitions: one per Redfish System).\n",
    "\n"
   ]
  },
  {
   "cell_type": "markdown",
   "metadata": {},
   "source": [
    "## Create a Redfish session using PowerShell\n",
    "\n",
    "\n",
    "All the URIs below the Root entry point require authentication. In this section, you'll go through the session authentication method for Redfish as it may differ from other Rest APIs (i.e. OneView). \n",
    "\n",
    "The following PowerShell `Invoke-WebRequest` cmdlet sends a `POST` request toward the standard `/redfish/v1/SessionService/Sessions` URI of your  BMC. The body/workload of this request is in the `@${Body}` json data populated using the credentials from the very first `PowerShell` cell of this notebook (Environment variables).\n",
    "\n",
    "Select and run the following cell.\n",
    "\n",
    "If this `POST` request is successful, the BMC sends back a `Token` and a `Session Location` in the **headers of the response**. Response headers are saved in the `$r_headers` variable and further parsed into the $token and $location variables.\n",
    "\n",
    "Play the next cell.\n"
   ]
  },
  {
   "cell_type": "code",
   "execution_count": 4,
   "metadata": {},
   "outputs": [
    {
     "name": "stdout",
     "output_type": "stream",
     "text": [
      "                                                                                                                                                                                                                                                                                                                                                                                                                                                                                                                                                                                                                                                                Bmc Token: y0YnOCogznWY3rcFfoEA\n",
      "Bmc Session Location /redfish/v1/SessionService/Sessions/1v7TVOVxpV\n"
     ]
    }
   ],
   "source": [
    "# Create the JSON request to pass BMC credentials to the API                                                                      \n",
    "$Body = @{                                                                                                                            \n",
    "    UserName = $user                                                                                                                  \n",
    "    Password = $pass                                                                                                                  \n",
    "}                                                                                                                                     \n",
    "$Body = ($Body|ConvertTo-Json)                                                                                                        \n",
    "                                                                                                                                                                                                                                  \n",
    "$BmcURI = \"https://${BmcIP}/redfish/v1/SessionService/Sessions\"                                                                      \n",
    "                                                                                                                                                                        \n",
    "$r = Invoke-WebRequest -SkipCertificateCheck -Uri $BmcURI -Method 'POST' -Body $Body -ErrorAction Stop                                \n",
    "                                                                                                                                      \n",
    "$r_headers = $r.Headers                                                                                                               \n",
    "$token = $r_headers.\"X-Auth-Token\"[0]  \n",
    "$location = $r_headers.\"Location\"[0]\n",
    " \n",
    "echo \"Bmc Token: $token\"\n",
    "echo \"Bmc Session Location $location\"                                                                                                                                      "
   ]
  },
  {
   "cell_type": "markdown",
   "metadata": {},
   "source": [
    "## Retrieve BMC parameters\n",
    "\n",
    "Redfish locates BMC parameters under `/redfish/v1/Managers`. From there, you'll be able to identify all the BMCs present in your server, as well as their properties. Remember that computers, like HPE Moonshot and HPE Superdome Flex, can have several BMCs.\n",
    "\n",
    "Your lab infrastructure is based on servers with only a single BMC. However, we'll use code suitable for servers with multiple BMCs.\n",
    "\n",
    "The following cell lists the collection of all the BMCs present in your system. Since requests below the Redfish Root Entry point **it requires authentication**, you must supply the **`X-Auth-Token`** as part of the header. \n",
    "\n",
    "Run the next cell and note that there is only one BMC present in  your OpenBMC appliance (`Member@odata.count = 1`). Also note its location: `/redfish/v1/Managers/bmc`. Other Redfish implementations use different locations. For example, the URI of an HPE iLO in a ProLiant Server is `/redfish/v1/Managers/1`. "
   ]
  },
  {
   "cell_type": "code",
   "execution_count": 5,
   "metadata": {},
   "outputs": [
    {
     "name": "stdout",
     "output_type": "stream",
     "text": [
      "Attempting HTTP GET @ https://openbmcs:44300/redfish/v1/Managers with X-Auth-Token: y0YnOCogznWY3rcFfoEA\n",
      "                                                                                                                                                                                                                                                                                                                                                                                                                                                                                                                                                                                                                                                                \n",
      "@odata.id           : /redfish/v1/Managers\n",
      "@odata.type         : #ManagerCollection.ManagerCollection\n",
      "Members             : {@{@odata.id=/redfish/v1/Managers/bmc}}\n",
      "Members@odata.count : 1\n",
      "Name                : Manager Collection\n",
      "\n",
      "\n"
     ]
    }
   ],
   "source": [
    "$headers = @{'X-Auth-Token'= $token}                                                                                                  \n",
    "                                                                                                                                      \n",
    "$BmcURI = \"https://${BmcIP}/redfish/v1/Managers\"                                                                              \n",
    "echo \"Attempting HTTP GET @ $BmcURI with X-Auth-Token: $token\"                                                                        \n",
    "                                                                                                                                      \n",
    "$r = Invoke-WebRequest -SkipCertificateCheck -Uri $BmcURI -Method 'GET' -Headers $headers -ErrorAction Stop                           \n",
    "                                                                                                                                      \n",
    "ConvertFrom-Json $r.Content                                             "
   ]
  },
  {
   "cell_type": "markdown",
   "metadata": {},
   "source": [
    "The following cell extracts the name of the BMCs present in your system.Then, for each BMC, it extracts its properties.\n",
    "\n",
    "Run the next cell and review the properties returned by your OpenBMC. Among them you should notice the `Actions` and the `Oem` resources, which need some explanation. \n",
    "\n",
    "The `Actions` collection contains all the possible actions that can be performed on your BMC. With this version of OpenBMC, you can perform a reset of the BMC by posting the value `GracefulRestart` at `/redfish/v1/Managers/bmc/Actions/Manager.Reset`. You'll do this later in the lab.\n",
    "\n",
    "The `Oem` collection contains resources specific to `OpenBmc` and not part of the Redfish standard. This is a way to allow computer makers to expose their specific and value added resources to the Rest API."
   ]
  },
  {
   "cell_type": "code",
   "execution_count": 6,
   "metadata": {},
   "outputs": [
    {
     "name": "stdout",
     "output_type": "stream",
     "text": [
      "List of BMC(s) present in this system: \n",
      "bmc\n",
      "Properties of BMC: \n",
      "bmc\n",
      "\n",
      "                                                                                                                                                                                                                                                                                                                                                                                                                                                                                                                                                                                                                                                                {\n",
      "  \"@odata.id\": \"/redfish/v1/Managers/bmc\",\n",
      "  \"@odata.type\": \"#Manager.v1_3_0.Manager\",\n",
      "  \"Actions\": {\n",
      "    \"#Manager.Reset\": {\n",
      "      \"ResetType@Redfish.AllowableValues\": [\n",
      "        \"GracefulRestart\"\n",
      "      ],\n",
      "      \"target\": \"/redfish/v1/Managers/bmc/Actions/Manager.Reset\"\n",
      "    }\n",
      "  },\n",
      "  \"DateTime\": \"2020-08-24T18:19:41+00:00\",\n",
      "  \"Description\": \"Baseboard Management Controller\",\n",
      "  \"EthernetInterfaces\": {\n",
      "    \"@odata.id\": \"/redfish/v1/Managers/bmc/EthernetInterfaces\"\n",
      "  },\n",
      "  \"FirmwareVersion\": \"2.8.0-dev-1427-g64e281927\",\n",
      "  \"GraphicalConsole\": {\n",
      "    \"ConnectTypesSupported\": [\n",
      "      \"KVMIP\"\n",
      "    ],\n",
      "    \"MaxConcurrentSessions\": 4,\n",
      "    \"ServiceEnabled\": true\n",
      "  },\n",
      "  \"Id\": \"bmc\",\n",
      "  \"Links\": {\n",
      "    \"ManagerForChassis\": [\n",
      "      {\n",
      "        \"@odata.id\": \"/redfish/v1/Chassis/chassis\"\n",
      "      }\n",
      "    ],\n",
      "    \"ManagerForChassis@odata.count\": 1,\n",
      "    \"ManagerForServers\": [\n",
      "      {\n",
      "        \"@odata.id\": \"/redfish/v1/Systems/system\"\n",
      "      }\n",
      "    ],\n",
      "    \"ManagerForServers@odata.count\": 1,\n",
      "    \"ManagerInChassis\": {\n",
      "      \"@odata.id\": \"/redfish/v1/Chassis/chassis\"\n",
      "    }\n",
      "  },\n",
      "  \"LogServices\": {\n",
      "    \"@odata.id\": \"/redfish/v1/Managers/bmc/LogServices\"\n",
      "  },\n",
      "  \"ManagerType\": \"BMC\",\n",
      "  \"Model\": \"OpenBmc\",\n",
      "  \"Name\": \"OpenBmc Manager\",\n",
      "  \"NetworkProtocol\": {\n",
      "    \"@odata.id\": \"/redfish/v1/Managers/bmc/NetworkProtocol\"\n",
      "  },\n",
      "  \"Oem\": {\n",
      "    \"@odata.id\": \"/redfish/v1/Managers/bmc#/Oem\",\n",
      "    \"@odata.type\": \"#OemManager.Oem\",\n",
      "    \"OpenBmc\": {\n",
      "      \"@odata.id\": \"/redfish/v1/Managers/bmc#/Oem/OpenBmc\",\n",
      "      \"@odata.type\": \"#OemManager.OpenBmc\",\n",
      "      \"Certificates\": {\n",
      "        \"@odata.id\": \"/redfish/v1/Managers/bmc/Truststore/Certificates\"\n",
      "      }\n",
      "    }\n",
      "  },\n",
      "  \"PowerState\": \"On\",\n",
      "  \"SerialConsole\": {\n",
      "    \"ConnectTypesSupported\": [\n",
      "      \"IPMI\",\n",
      "      \"SSH\"\n",
      "    ],\n",
      "    \"MaxConcurrentSessions\": 15,\n",
      "    \"ServiceEnabled\": true\n",
      "  },\n",
      "  \"ServiceEntryPointUUID\": \"8a557334-4a18-4b2a-9b80-da497882408c\",\n",
      "  \"Status\": {\n",
      "    \"Health\": \"OK\",\n",
      "    \"HealthRollup\": \"OK\",\n",
      "    \"State\": \"Enabled\"\n",
      "  },\n",
      "  \"UUID\": \"437d2061-659b-4157-9afa-95bf26c8f42d\"\n",
      "}\n"
     ]
    }
   ],
   "source": [
    "$managers = ConvertFrom-Json $r.Content                                                                                                   \n",
    "$bmcs = $()                                                                                                                           \n",
    "$bmcuris = $()                                                                                                                        \n",
    "                                                                                                                                      \n",
    "foreach ($member in $managers.Members) {                                                                                                  \n",
    "  $url = $member.'@odata.id'                                                                                                          \n",
    "  $bmcuris += \"https://${BmcIP}${url}\"                                                                                                \n",
    "  $bmcs += $url.substring($url.lastindexof(\"/\")+1)\n",
    "}                                                                                                                                     \n",
    "                                                                                                                                      \n",
    "echo \"List of BMC(s) present in this system: \" $bmcs                                                                                  \n",
    "                                                                                                                                      \n",
    "foreach ($uri in $bmcuris) {                                                                                                          \n",
    "  echo \"Properties of BMC: \" $uri.substring($uri.lastindexof(\"/\")+1)   \n",
    "  echo \"\"\n",
    "  $bmc_r = Invoke-WebRequest -SkipCertificateCheck -Uri $uri -Method 'GET' -Headers $headers -ErrorAction Stop\n",
    "  $bmc_r.Content\n",
    "}                                                                                                                                                                 "
   ]
  },
  {
   "cell_type": "markdown",
   "metadata": {},
   "source": [
    "## View and modify a property\n",
    "\n",
    "If you want to view a specific property (i.e. network protocols) supported by your BMC, you can retrieve it with a `GET` of the `Property` URI mentioned in the output of the above `GET` request.\n",
    "\n",
    "Run the next `PowerShell`cell. Its output should show an empty array of `NTPServers` (if not, contact your instructor).\n"
   ]
  },
  {
   "cell_type": "code",
   "execution_count": 7,
   "metadata": {},
   "outputs": [
    {
     "name": "stdout",
     "output_type": "stream",
     "text": [
      "                                                                                                                                                                                                                                                                                                                                                                                                                                                                                                                                                                                                                                                                {\n",
      "  \"@odata.id\": \"/redfish/v1/Managers/bmc/NetworkProtocol\",\n",
      "  \"@odata.type\": \"#ManagerNetworkProtocol.v1_4_0.ManagerNetworkProtocol\",\n",
      "  \"Description\": \"Manager Network Service\",\n",
      "  \"FQDN\": \"palmetto\",\n",
      "  \"HTTP\": {\n",
      "    \"Port\": 0,\n",
      "    \"ProtocolEnabled\": false\n",
      "  },\n",
      "  \"HTTPS\": {\n",
      "    \"Certificates\": {\n",
      "      \"@odata.id\": \"/redfish/v1/Managers/bmc/NetworkProtocol/HTTPS/Certificates\"\n",
      "    },\n",
      "    \"Port\": 443,\n",
      "    \"ProtocolEnabled\": true\n",
      "  },\n",
      "  \"HostName\": \"palmetto\",\n",
      "  \"IPMI\": {\n",
      "    \"Port\": 623,\n",
      "    \"ProtocolEnabled\": true\n",
      "  },\n",
      "  \"Id\": \"NetworkProtocol\",\n",
      "  \"NTP\": {\n",
      "    \"NTPServers\": [],\n",
      "    \"ProtocolEnabled\": true\n",
      "  },\n",
      "  \"Name\": \"Manager Network Protocol\",\n",
      "  \"SSH\": {\n",
      "    \"Port\": 22,\n",
      "    \"ProtocolEnabled\": true\n",
      "  },\n",
      "  \"Status\": {\n",
      "    \"Health\": \"OK\",\n",
      "    \"HealthRollup\": \"OK\",\n",
      "    \"State\": \"Enabled\"\n",
      "  }\n",
      "}\n"
     ]
    }
   ],
   "source": [
    "$BmcURI = \"https://${BmcIP}/redfish/v1/Managers/bmc/NetworkProtocol\"                                                                  \n",
    "\n",
    "$net_r = Invoke-WebRequest -SkipCertificateCheck -Uri $BmcURI -Method 'GET' -Headers $headers -ErrorAction Stop                           \n",
    "\n",
    "$net_r.Content           "
   ]
  },
  {
   "cell_type": "markdown",
   "metadata": {},
   "source": [
    "As it is always good to have the correct date and time in a BMC, you may want to supply at least one server IP in the `NTPServers` array of your BMC. To to this, you must first verify whether the `NTPServers` array can be modified in the Redfish schema. \n",
    "\n",
    "Due to time constraints, we will skip this verification and assume that this property is writable."
   ]
  },
  {
   "cell_type": "markdown",
   "metadata": {},
   "source": [
    "The following commands performs a `PATCH` of the `NetworkProtocol` endpoint with a single NTP server IP address.\n",
    "\n",
    "This `PATCH` request does not return any response data. Other Redfish implementations (i.e. HPE iLO) are more verbose. However, by checking the response header file `$ResponseHeaders`, you should see an `HTTP/1.1: 204` return code stating that the request was successful."
   ]
  },
  {
   "cell_type": "code",
   "execution_count": 8,
   "metadata": {},
   "outputs": [
    {
     "name": "stdout",
     "output_type": "stream",
     "text": [
      "                                                                                                                                                                                                                                                                                                                                                                                                                                                                                                                                                                                                                                                                "
     ]
    }
   ],
   "source": [
    "$BmcURI = \"https://${BmcIP}/redfish/v1/Managers/bmc/NetworkProtocol\"\n",
    "$Body = @{\n",
    "  NTP = @{\n",
    "    NTPServers = \"192.168.0.99\", \"\"\n",
    "  }\n",
    "}\n",
    "$Body = ($Body|ConvertTo-Json)\n",
    "\n",
    "$ignore = Invoke-WebRequest -SkipCertificateCheck -Uri $BmcURI -Method 'PATCH' -Body $Body -Headers $headers -ErrorAction Stop"
   ]
  },
  {
   "cell_type": "markdown",
   "metadata": {},
   "source": [
    "Using the following command, verify that the NTPServers list contains the IP address you supplied."
   ]
  },
  {
   "cell_type": "code",
   "execution_count": 9,
   "metadata": {},
   "outputs": [
    {
     "name": "stdout",
     "output_type": "stream",
     "text": [
      "                                                                                                                                                                                                                                                                                                                                                                                                                                                                                                                                                                                                                                                                \n",
      "NTPServers     ProtocolEnabled\n",
      "----------     ---------------\n",
      "{192.168.0.99}            True\n",
      "\n"
     ]
    }
   ],
   "source": [
    "$BmcURI = \"https://${BmcIP}/redfish/v1/Managers/bmc/NetworkProtocol\"\n",
    " \n",
    "$patch_results = Invoke-WebRequest -SkipCertificateCheck -Uri $BmcURI -Method 'GET' -Headers $headers -ErrorAction Stop\n",
    "\n",
    "$ntp = $patch_results.Content | ConvertFrom-Json\n",
    "$ntp[0].NTP\n"
   ]
  },
  {
   "cell_type": "markdown",
   "metadata": {},
   "source": [
    "## Perform an action: Reset OpenBMC\n",
    "\n",
    "In the previous section, you modified a resource that does not require a reset of the BMC to be taken into account. However, other parameters may require a restart when changed.\n",
    "\n",
    "In this section you will perform the `GracefulRestart` action seen previously in your OpenBMC using a `POST` request toward the corresponding target. \n",
    "\n",
    "After you run this reset command, run the next `powershell` cell in order to wait until the BMC is back online."
   ]
  },
  {
   "cell_type": "code",
   "execution_count": 10,
   "metadata": {},
   "outputs": [
    {
     "name": "stdout",
     "output_type": "stream",
     "text": [
      "Starting a reset of the BMC at 08/24/2020 20:20:22\n",
      "                                                                                                                                                                                                                                                                                                                                                                                                                                                                                                                                                                                                                                                                {\n",
      "  \"@Message.ExtendedInfo\": [\n",
      "    {\n",
      "      \"@odata.type\": \"#Message.v1_0_0.Message\",\n",
      "      \"Message\": \"Successfully Completed Request\",\n",
      "      \"MessageArgs\": [],\n",
      "      \"MessageId\": \"Base.1.4.0.Success\",\n",
      "      \"Resolution\": \"None\",\n",
      "      \"Severity\": \"OK\"\n",
      "    }\n",
      "  ]\n",
      "}\n"
     ]
    }
   ],
   "source": [
    "$BmcURI = \"https://${BmcIP}/redfish/v1/Managers/bmc/Actions/Manager.Reset\"                                                                                                                                                     \n",
    "$Body = @{\n",
    "  \"ResetType\" = \"GracefulRestart\"                                                                                                                                                                                              \n",
    "}                                                                                                                                                                                                                              \n",
    "$Body = ($Body|ConvertTo-Json)                                                                                                                                                                                                 \n",
    "                                                                                                                                                                                                                               \n",
    "$date = Get-Date                                                                                                                                                                                                               \n",
    "echo \"Starting a reset of the BMC at $date\"                                                                                                                                                                                    \n",
    "                                                                                                                                                                                                                               \n",
    "$ret = Invoke-WebRequest -SkipCertificateCheck -Uri $BmcURI -Method 'POST' -Body $Body -Headers $headers -ErrorAction Stop\n",
    "                                                                                                                                                                                                                               \n",
    "$ret.Content"
   ]
  },
  {
   "cell_type": "markdown",
   "metadata": {},
   "source": [
    "## Wait until OpenBMC is back online\n",
    "\n",
    "The following cell loops until the BMC returns a valid HTTP 200 response to a `GET` request. Run it and wait until the BMC is back on line. This should take about three minutes."
   ]
  },
  {
   "cell_type": "code",
   "execution_count": 11,
   "metadata": {},
   "outputs": [
    {
     "name": "stdout",
     "output_type": "stream",
     "text": [
      "                                                                                                                                                                                                                                                                                                                                                                                                                                                                                                                                                                                                                                                                BMC is back online at 08/24/2020 20:23:04\n"
     ]
    }
   ],
   "source": [
    "$BmcURI = \"https://${BmcIP}/redfish/v1/Managers/bmc\"                                                                                                                                                                          \n",
    "                                                                                                                                                                                                                               \n",
    "Do {                                                                                                                                                                                                                           \n",
    "  try {                                                                                                                                                                                                                        \n",
    "    $r = Invoke-WebRequest -SkipCertificateCheck -Uri $BmcURI -Method 'GET' -Headers $headers -TimeoutSec 1 -ErrorAction Stop\n",
    "    $StatusCode = $r.StatusCode                                                                                                                                                                                                \n",
    "  }                                                                                                                                                                                                                            \n",
    "  catch                                                                                                                                                                                                                        \n",
    "  {                                                                                                                                                                                                                            \n",
    "    $StatusCode = $_.Exception.Response.StatusCode.value__                                                                                                                                                                     \n",
    "    Start-Sleep -s 1                                                                                                                                                                                                           \n",
    "  }                                                                                                                                                                                                                            \n",
    "                                                                                                                                                                                                                               \n",
    "} Until ($StatusCode -eq 200)                                                                                                                                                                                                  \n",
    "$date = Get-Date                                                                                                                                                                                                               \n",
    "echo \"BMC is back online at $date\"   "
   ]
  },
  {
   "cell_type": "markdown",
   "metadata": {},
   "source": [
    "## Delete sessions\n",
    "\n",
    "It is extremely important to delete Redfish sessions to avoid reaching the maximum number of opened sessions in a BMC, preventing any access to it. Read this [article](https://developer.hpe.com/blog/managing-ilo-sessions-with-redfish) for more detail."
   ]
  },
  {
   "cell_type": "code",
   "execution_count": 12,
   "metadata": {},
   "outputs": [
    {
     "name": "stdout",
     "output_type": "stream",
     "text": [
      "                                                                                                                                                                                                                                                                                                                                                                                                                                                                                                                                                                                                                                                                {\n",
      "  \"@odata.id\": \"/redfish/v1/SessionService/Sessions/1v7TVOVxpV\",\n",
      "  \"@odata.type\": \"#Session.v1_0_2.Session\",\n",
      "  \"Description\": \"Manager User Session\",\n",
      "  \"Id\": \"1v7TVOVxpV\",\n",
      "  \"Name\": \"User Session\",\n",
      "  \"UserName\": \"student\"\n",
      "}\n"
     ]
    }
   ],
   "source": [
    "$BmcURI = \"https://${BmcIP}$location\"                                                                                                                                                                                          \n",
    "                                                                                                                                                                                                                                                                                                                                                                                                                                                           \n",
    "$r = Invoke-WebRequest -SkipCertificateCheck -Uri $BmcURI -Method 'DELETE' -Headers $headers -ErrorAction Stop                                                                                                                 \n",
    "                                                                                                                                                                                                                               \n",
    "$r.Content                                                                                                                    "
   ]
  },
  {
   "cell_type": "markdown",
   "metadata": {},
   "source": [
    "### What next ?\n",
    "\n",
    " It is time now to go through the **[Lab 3 notebook](3-Discover-RedfishPython.ipynb)** to study a Python code suitable for several Redfish implementation."
   ]
  }
 ],
 "metadata": {
  "kernelspec": {
   "display_name": "PowerShell",
   "language": "powershell",
   "name": "powershell"
  },
  "language_info": {
   "codemirror_mode": "shell",
   "file_extension": ".ps1",
   "mimetype": "text/x-sh",
   "name": "powershell"
  }
 },
 "nbformat": 4,
 "nbformat_minor": 4
}
