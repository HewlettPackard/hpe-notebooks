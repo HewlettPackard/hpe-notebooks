{
 "cells": [
  {
   "cell_type": "markdown",
   "metadata": {},
   "source": [
    "<h1>What is Python?</h1>\n",
    "<p>Python is an interpreted, high-level, general purpose programming language. It was conceived in 1980 by Guido van Rossum. You can download Python interpreter for free at <a href=\"https://python.org\">https://python.org</a> and it has its binaries for all platforms like Linux, macOS and Windows.</p>\n",
    "\n",
    "<p>Here is your <strong>Introduction to Python</strong> session by Samarth Deyagond. You can call me, SAM!</p>\n",
    "<h5 style=\"text-align:center\">Fasten your seatbelts. The journey begins!<br /></h5>\n",
    "<center><img src=\"https://media.giphy.com/media/twG2m3mewlRvi/giphy.gif\" style=\"height:300px, width:300px\" /></center>"
   ]
  },
  {
   "cell_type": "markdown",
   "metadata": {},
   "source": [
    "<h3 id=\"1\">#1. Let's write our first Python code</h3>\n",
    "<p>Python is meant to be an easily readable language. Its formatting is visually uncluttered. It is so readable that one feels programming in Python like writing instructions for the computer in plane English.</p>"
   ]
  },
  {
   "cell_type": "code",
   "execution_count": 1,
   "metadata": {},
   "outputs": [
    {
     "name": "stdout",
     "output_type": "stream",
     "text": [
      "Hello, World!\n"
     ]
    }
   ],
   "source": [
    "# Let's say hello to world in Python\n",
    "print(\"Hello, World!\")"
   ]
  },
  {
   "cell_type": "code",
   "execution_count": 2,
   "metadata": {},
   "outputs": [
    {
     "name": "stdout",
     "output_type": "stream",
     "text": [
      "Please enter your name: Teddy Winters\n",
      "Hello Teddy Winters\n"
     ]
    }
   ],
   "source": [
    "name = input(\"Please enter your name: \")\n",
    "print(\"Hello\", name)"
   ]
  },
  {
   "cell_type": "markdown",
   "metadata": {},
   "source": [
    "<h3 id=\"2\">#2. Understanding variables and data types in Python</h3>\n",
    "<p><strong>Variables,</strong> in a program are the logical names that you give to refer the memory/address space that holds the data you need for your computation. Python supports a variety of data types -</p>\n",
    "    <ul>\n",
    "        <li><strong>numeric</strong> (integer, floating point)</li> \n",
    "        <li><strong>string</strong> (character, character sequence)</li>\n",
    "        <li><strong>boolean</strong></li>\n",
    "        <li><strong>custom</strong> datatypes (objects of classes)</li>\n",
    "        <li><strong>lists</strong> (collection of values), etc.</li>\n",
    "    </ul>\n",
    "\n",
    "<p>The best part about variables &amp; data types in Python is that - they are dynamically typed. You don't have to worry about informing the interpreter what kind of data you're storing in the variables unlike the way in languages like C, C++ and Java. Python understands by itself - <i>what is what?!</i></p>"
   ]
  },
  {
   "cell_type": "code",
   "execution_count": 3,
   "metadata": {},
   "outputs": [],
   "source": [
    "# create variables of different datatypes\n",
    "an_integer = 10\n",
    "a_float = 12.5\n",
    "a_character = 'S'\n",
    "a_string = 'Teddy Winters'\n",
    "a_bool = True"
   ]
  },
  {
   "cell_type": "code",
   "execution_count": 4,
   "metadata": {},
   "outputs": [
    {
     "name": "stdout",
     "output_type": "stream",
     "text": [
      "Interger example: 10\n",
      "\n",
      "Floating point example: 12.5\n",
      "\n",
      "Character example: S\n",
      "\n",
      "String example: Teddy Winters\n",
      "\n",
      "Boolean example: True\n"
     ]
    }
   ],
   "source": [
    "# print the variables using the print statement\n",
    "print(\"Interger example:\", an_integer)\n",
    "print(\"\\nFloating point example:\", a_float)\n",
    "print(\"\\nCharacter example:\", a_character)\n",
    "print(\"\\nString example:\", a_string)\n",
    "print(\"\\nBoolean example:\", a_bool)"
   ]
  },
  {
   "cell_type": "markdown",
   "metadata": {},
   "source": [
    "<h4>How to check the data type of a variable in Python?</h4>\n",
    "<p>Well, the function <code>type</code> is for our rescue</p>"
   ]
  },
  {
   "cell_type": "code",
   "execution_count": 5,
   "metadata": {},
   "outputs": [
    {
     "data": {
      "text/plain": [
       "bool"
      ]
     },
     "execution_count": 5,
     "metadata": {},
     "output_type": "execute_result"
    }
   ],
   "source": [
    "type(a_bool)"
   ]
  },
  {
   "cell_type": "markdown",
   "metadata": {},
   "source": [
    "<h3 id=\"3\">#3. Console input, variable assignment and math</h3>\n",
    "<p>In this section, we will understand how to capture a console input from the user at the runtime, store it in a variable and perform some operations on it. <code>input</code> is the function we use to do this. <code>input</code> will always treat the value given by the user to be of <code>string</code> datatype. One has to typecast it to the proper datatype before assigning it to the variable.</p>"
   ]
  },
  {
   "cell_type": "code",
   "execution_count": 6,
   "metadata": {},
   "outputs": [
    {
     "name": "stdout",
     "output_type": "stream",
     "text": [
      "Please enter your name: Teddy Winters\n",
      "Hello, Teddy Winters\n"
     ]
    }
   ],
   "source": [
    "# capture your name from the console and store it in the variable name\n",
    "name = input(\"Please enter your name: \")\n",
    "print(\"Hello,\", name)"
   ]
  },
  {
   "cell_type": "markdown",
   "metadata": {},
   "source": [
    "<p>Let us try out another example:</p>"
   ]
  },
  {
   "cell_type": "code",
   "execution_count": 7,
   "metadata": {},
   "outputs": [
    {
     "name": "stdout",
     "output_type": "stream",
     "text": [
      "Enter the dividend:10\n",
      "Enter a non zero divisor:5\n",
      "The quotient is 2.0 and quotient is of type <class 'float'>\n"
     ]
    }
   ],
   "source": [
    "# capture the dividend and divisor value\n",
    "dividend = int(input(\"Enter the dividend:\"))\n",
    "divisor = float(input(\"Enter a non zero divisor:\"))\n",
    "\n",
    "# calculate the quotient\n",
    "quotient = dividend/divisor\n",
    "print(\"The quotient is {} and quotient is of type {}\".format(quotient, type(quotient)))"
   ]
  },
  {
   "cell_type": "markdown",
   "metadata": {},
   "source": [
    "<h3 id=\"4\">#4. Conditionals: The if-else statements</h3>\n",
    "<p>Conditional logic are very common in our day-today life. We want to execute a block of code if some condition is satisfied or execute some other block code to produce a different result. Let us see it with the same example from <a href=\"#3\">#3</a> where we wouldn't want to divide if the divisor is 0.</p>\n",
    "<p>A block of code is always intended four spaces within with respect to its parent block.</p>"
   ]
  },
  {
   "cell_type": "code",
   "execution_count": 8,
   "metadata": {},
   "outputs": [
    {
     "name": "stdout",
     "output_type": "stream",
     "text": [
      "Enter the dividend:10\n",
      "Enter a non zero divisor:5\n",
      "The quotient is 2.0\n"
     ]
    }
   ],
   "source": [
    "# capture the dividend and divisor value\n",
    "dividend = int(input(\"Enter the dividend:\"))\n",
    "divisor = int(input(\"Enter a non zero divisor:\"))\n",
    "\n",
    "# check if the divisor is not zero. If True then calcuate the quotient or throw an error\n",
    "if divisor != 0:\n",
    "    quotient = dividend/divisor\n",
    "    print(\"The quotient is {}\".format(quotient))\n",
    "else:\n",
    "    print(\"Stop! Cannot divide by zero.\")"
   ]
  },
  {
   "cell_type": "markdown",
   "metadata": {},
   "source": [
    "<h3>#5. Loops in Python</h3>\n",
    "<p>Executing a block of code over and over again is called looping. There are two looping constructs in Python. <code>for</code> and <code>while</code>. </p>"
   ]
  },
  {
   "cell_type": "code",
   "execution_count": 9,
   "metadata": {},
   "outputs": [
    {
     "name": "stdout",
     "output_type": "stream",
     "text": [
      "3 X 1 = 3\n",
      "3 X 2 = 6\n",
      "3 X 3 = 9\n",
      "3 X 4 = 12\n",
      "3 X 5 = 15\n",
      "3 X 6 = 18\n",
      "3 X 7 = 21\n",
      "3 X 8 = 24\n",
      "3 X 9 = 27\n",
      "3 X 10 = 30\n"
     ]
    }
   ],
   "source": [
    "# looping with for loop\n",
    "multiplicand = 3\n",
    "for i in range(1, 11):\n",
    "    print(multiplicand, \"X\", i, \"=\", multiplicand*i)"
   ]
  },
  {
   "cell_type": "code",
   "execution_count": 10,
   "metadata": {},
   "outputs": [
    {
     "name": "stdout",
     "output_type": "stream",
     "text": [
      "5 X 1 = 5\n",
      "5 X 2 = 10\n",
      "5 X 3 = 15\n",
      "5 X 4 = 20\n",
      "5 X 5 = 25\n",
      "5 X 6 = 30\n",
      "5 X 7 = 35\n",
      "5 X 8 = 40\n",
      "5 X 9 = 45\n",
      "5 X 10 = 50\n"
     ]
    }
   ],
   "source": [
    "# looping with while loop\n",
    "multiplicand = 5\n",
    "multiplier = 1\n",
    "while multiplier <= 10:\n",
    "    print(multiplicand, \"X\", multiplier, \"=\", multiplicand*multiplier)\n",
    "    multiplier = multiplier + 1"
   ]
  },
  {
   "cell_type": "markdown",
   "metadata": {},
   "source": [
    "<h3>#6. Lists and tuples in Python</h3>\n",
    "<h4>Introduction</h4>\n",
    "<p><code>Lists</code> and <code>tuples</code> are collection of items of heterogenous/homogenous types. However, </p>\n",
    "    <ul>\n",
    "        <li><code>lists</code> are mutable and <code>tuples</code> are immutable.</li>\n",
    "        <li><code>list items</code> are enclosed within sqaure brackets [] and <code>tuple items</code> are enclosed within paranthesis ()</li\n",
    "    </ul>"
   ]
  },
  {
   "cell_type": "code",
   "execution_count": 11,
   "metadata": {},
   "outputs": [
    {
     "name": "stdout",
     "output_type": "stream",
     "text": [
      "[10, 12.5, 'Teddy Winters', True]\n"
     ]
    }
   ],
   "source": [
    "# list example\n",
    "list_items = [10, 12.5, \"Teddy Winters\", True]\n",
    "\n",
    "# print the list at once\n",
    "print(list_items)"
   ]
  },
  {
   "cell_type": "markdown",
   "metadata": {},
   "source": [
    "<p>Iterate over the list items one by one.</p>"
   ]
  },
  {
   "cell_type": "code",
   "execution_count": 12,
   "metadata": {},
   "outputs": [
    {
     "name": "stdout",
     "output_type": "stream",
     "text": [
      "10 12.5 Teddy Winters True "
     ]
    }
   ],
   "source": [
    "for item in list_items:\n",
    "    print(item, end=' ')"
   ]
  },
  {
   "cell_type": "code",
   "execution_count": 13,
   "metadata": {},
   "outputs": [
    {
     "name": "stdout",
     "output_type": "stream",
     "text": [
      "('HPE Dev', 101, ['a', 12.5, True])\n"
     ]
    }
   ],
   "source": [
    "# create a tuple \n",
    "tuple_items = (\"HPE Dev\", 101, ['a', 12.5, True])\n",
    "\n",
    "# print the tuple at once\n",
    "print(tuple_items)"
   ]
  },
  {
   "cell_type": "markdown",
   "metadata": {},
   "source": [
    "<p>Iterate over tuple items one by one.</p>"
   ]
  },
  {
   "cell_type": "code",
   "execution_count": 14,
   "metadata": {},
   "outputs": [
    {
     "name": "stdout",
     "output_type": "stream",
     "text": [
      "HPE Dev 101 ['a', 12.5, True] "
     ]
    }
   ],
   "source": [
    "# iterate over tuple items one by one\n",
    "for item in tuple_items:\n",
    "    print(item, end=\" \")"
   ]
  },
  {
   "cell_type": "markdown",
   "metadata": {},
   "source": [
    "<p>Let's understand their mutability and immutability</p>"
   ]
  },
  {
   "cell_type": "code",
   "execution_count": 15,
   "metadata": {},
   "outputs": [
    {
     "name": "stdout",
     "output_type": "stream",
     "text": [
      "[100, 12.5, 'Teddy Winters', True]\n"
     ]
    }
   ],
   "source": [
    "list_items[0] = 100\n",
    "print(list_items)\n",
    "\n",
    "# So, lists are mutable"
   ]
  },
  {
   "cell_type": "code",
   "execution_count": 16,
   "metadata": {},
   "outputs": [
    {
     "ename": "TypeError",
     "evalue": "'tuple' object does not support item assignment",
     "output_type": "error",
     "traceback": [
      "\u001b[0;31m---------------------------------------------------------------------------\u001b[0m",
      "\u001b[0;31mTypeError\u001b[0m                                 Traceback (most recent call last)",
      "\u001b[0;32m<ipython-input-16-c465eec10ff0>\u001b[0m in \u001b[0;36m<module>\u001b[0;34m\u001b[0m\n\u001b[0;32m----> 1\u001b[0;31m \u001b[0mtuple_items\u001b[0m\u001b[0;34m[\u001b[0m\u001b[0;36m0\u001b[0m\u001b[0;34m]\u001b[0m \u001b[0;34m=\u001b[0m \u001b[0;34m'HPE_Dev'\u001b[0m\u001b[0;34m\u001b[0m\u001b[0;34m\u001b[0m\u001b[0m\n\u001b[0m\u001b[1;32m      2\u001b[0m \u001b[0;31m# this is illegal in Python. It will throw a TypeError\u001b[0m\u001b[0;34m\u001b[0m\u001b[0;34m\u001b[0m\u001b[0;34m\u001b[0m\u001b[0m\n",
      "\u001b[0;31mTypeError\u001b[0m: 'tuple' object does not support item assignment"
     ]
    }
   ],
   "source": [
    "tuple_items[0] = 'HPE_Dev'\n",
    "# this is illegal in Python. It will throw a TypeError"
   ]
  },
  {
   "cell_type": "markdown",
   "metadata": {},
   "source": [
    "<h4>List comprehensions</h4>\n",
    "<p>You can use list comprehensions to create powerful functionality within a single line of code. Let us consider a list of integers <code>numbers</code> and try to create another list <code>squared</code> whose elements are squared of the corresponding elements from <code>numbers</code>.</p>"
   ]
  },
  {
   "cell_type": "code",
   "execution_count": 17,
   "metadata": {},
   "outputs": [
    {
     "name": "stdout",
     "output_type": "stream",
     "text": [
      "[1, 4, 9, 16, 25, 36, 49, 64, 81, 100]\n"
     ]
    }
   ],
   "source": [
    "numbers = [1, 2, 3, 4, 5, 6, 7, 8, 9, 10]\n",
    "squared = list()\n",
    "\n",
    "# regular way \n",
    "for number in numbers:\n",
    "    squared.append(number*number)\n",
    "\n",
    "print(squared)    "
   ]
  },
  {
   "cell_type": "markdown",
   "metadata": {},
   "source": [
    "<p>Let us use list comprehension now</p>"
   ]
  },
  {
   "cell_type": "code",
   "execution_count": 18,
   "metadata": {},
   "outputs": [
    {
     "name": "stdout",
     "output_type": "stream",
     "text": [
      "[1, 4, 9, 16, 25, 36, 49, 64, 81, 100]\n"
     ]
    }
   ],
   "source": [
    "squared_new = [number*number for number in numbers]\n",
    "print(squared_new)"
   ]
  },
  {
   "cell_type": "markdown",
   "metadata": {},
   "source": [
    "<p>There is something called as slicing. This helps you to choose sub section from the list/tuple. Strings are tuples. So, abilities of tuples are same for strings as well.</p>"
   ]
  },
  {
   "cell_type": "code",
   "execution_count": 19,
   "metadata": {},
   "outputs": [
    {
     "data": {
      "text/plain": [
       "[1, 2, 3, 4, 5]"
      ]
     },
     "execution_count": 19,
     "metadata": {},
     "output_type": "execute_result"
    }
   ],
   "source": [
    "first_five_numbers = numbers[:5]\n",
    "first_five_numbers"
   ]
  },
  {
   "cell_type": "code",
   "execution_count": 20,
   "metadata": {},
   "outputs": [
    {
     "data": {
      "text/plain": [
       "[6, 7, 8, 9, 10]"
      ]
     },
     "execution_count": 20,
     "metadata": {},
     "output_type": "execute_result"
    }
   ],
   "source": [
    "last_five_numbers = numbers[-5:]\n",
    "last_five_numbers"
   ]
  },
  {
   "cell_type": "code",
   "execution_count": 21,
   "metadata": {},
   "outputs": [
    {
     "data": {
      "text/plain": [
       "[4, 5, 6, 7]"
      ]
     },
     "execution_count": 21,
     "metadata": {},
     "output_type": "execute_result"
    }
   ],
   "source": [
    "numbers_in_between = numbers[3:7]\n",
    "numbers_in_between"
   ]
  },
  {
   "cell_type": "markdown",
   "metadata": {},
   "source": [
    "<h1>#7. Working with other modules</h1>\n",
    "<p>Python has abundant collection of libraries and modules that will help you in your development, scripting and automation activation. You need to employ <code>import</code> to involve those libraries in your Python program.</p>\n",
    "\n",
    "<p>Let us consider the <code>requests</code> library in Python and try to mimic whatever Didier showed us in his API Basics talk, but, in a programmatic way.</p>\n",
    "\n",
    "<p>The API end-point is: <a href=\"https://www.metaweather.com/api/\">https://www.metaweather.com/api/</a>. According to the documentation, we first issue a call to find a location on Earth:\n",
    "\n",
    "Querying API for WOEID of a city, such as Paris\n",
    "Invoke a GET request to https://www.metaweather.com/api/location/search/?query=Paris. We will capture the response and use it as a JSON data dictionary.</p>"
   ]
  },
  {
   "cell_type": "code",
   "execution_count": 30,
   "metadata": {},
   "outputs": [
    {
     "name": "stdout",
     "output_type": "stream",
     "text": [
      "Collecting requests\n",
      "  Using cached https://files.pythonhosted.org/packages/45/1e/0c169c6a5381e241ba7404532c16a21d86ab872c9bed8bdcd4c423954103/requests-2.24.0-py2.py3-none-any.whl\n",
      "Collecting idna<3,>=2.5 (from requests)\n",
      "  Using cached https://files.pythonhosted.org/packages/a2/38/928ddce2273eaa564f6f50de919327bf3a00f091b5baba8dfa9460f3a8a8/idna-2.10-py2.py3-none-any.whl\n",
      "Collecting urllib3!=1.25.0,!=1.25.1,<1.26,>=1.21.1 (from requests)\n",
      "  Using cached https://files.pythonhosted.org/packages/9f/f0/a391d1463ebb1b233795cabfc0ef38d3db4442339de68f847026199e69d7/urllib3-1.25.10-py2.py3-none-any.whl\n",
      "Collecting certifi>=2017.4.17 (from requests)\n",
      "  Using cached https://files.pythonhosted.org/packages/5e/c4/6c4fe722df5343c33226f0b4e0bb042e4dc13483228b4718baf286f86d87/certifi-2020.6.20-py2.py3-none-any.whl\n",
      "Collecting chardet<4,>=3.0.2 (from requests)\n",
      "  Using cached https://files.pythonhosted.org/packages/bc/a9/01ffebfb562e4274b6487b4bb1ddec7ca55ec7510b22e4c51f14098443b8/chardet-3.0.4-py2.py3-none-any.whl\n",
      "Installing collected packages: idna, urllib3, certifi, chardet, requests\n",
      "\u001b[31mERROR: Could not install packages due to an EnvironmentError: [Errno 13] Permission denied: '/Library/Python/3.8/site-packages/idna-2.10.dist-info'\n",
      "Consider using the `--user` option or check the permissions.\n",
      "\u001b[0m\n",
      "\u001b[33mWARNING: You are using pip version 19.2.3, however version 20.2.2 is available.\n",
      "You should consider upgrading via the 'pip install --upgrade pip' command.\u001b[0m\n"
     ]
    }
   ],
   "source": [
    "!pip3 install requests"
   ]
  },
  {
   "cell_type": "code",
   "execution_count": 29,
   "metadata": {},
   "outputs": [
    {
     "ename": "ModuleNotFoundError",
     "evalue": "No module named 'requests'",
     "output_type": "error",
     "traceback": [
      "\u001b[0;31m---------------------------------------------------------------------------\u001b[0m",
      "\u001b[0;31mModuleNotFoundError\u001b[0m                       Traceback (most recent call last)",
      "\u001b[0;32m<ipython-input-29-f998da71e214>\u001b[0m in \u001b[0;36m<module>\u001b[0;34m\u001b[0m\n\u001b[0;32m----> 1\u001b[0;31m \u001b[0;32mimport\u001b[0m \u001b[0mrequests\u001b[0m\u001b[0;34m\u001b[0m\u001b[0;34m\u001b[0m\u001b[0m\n\u001b[0m\u001b[1;32m      2\u001b[0m \u001b[0;32mimport\u001b[0m \u001b[0mjson\u001b[0m\u001b[0;34m\u001b[0m\u001b[0;34m\u001b[0m\u001b[0m\n",
      "\u001b[0;31mModuleNotFoundError\u001b[0m: No module named 'requests'"
     ]
    }
   ],
   "source": [
    "import requests\n",
    "import json"
   ]
  },
  {
   "cell_type": "code",
   "execution_count": null,
   "metadata": {},
   "outputs": [],
   "source": [
    "# get the response data for Paris as a location first\n",
    "\n",
    "response = requests.get(\"https://www.metaweather.com/api/location/search/?query=Paris\")\n",
    "if response.status_code == 200:\n",
    "    paris_data = json.loads(response.text)\n",
    "    paris_woeid = paris_data[0]['woeid']\n",
    "    print(paris_data)\n",
    "else:\n",
    "    print(\"GET request returned error status\", response.status_code)"
   ]
  },
  {
   "cell_type": "code",
   "execution_count": null,
   "metadata": {},
   "outputs": [],
   "source": [
    "response_stream = requests.get(\"https://www.metaweather.com/api/location/\" + str(paris_woeid))\n",
    "\n",
    "# convert the response data as JSON dictionary is response is 200 OK\n",
    "if response_stream.status_code == 200:\n",
    "    response_body = json.loads(response_stream.text)\n",
    "    print(json.dumps(response_body, indent=2))\n",
    "    print(\"\\n\\nSun rise in Paris is at:\", response_body['sun_rise'])\n",
    "    print(\"Sun set in Paris is at:\", response_body['sun_set'])\n",
    "else:\n",
    "    print(\"GET request returned status\", response_stream.status_code)"
   ]
  },
  {
   "cell_type": "markdown",
   "metadata": {},
   "source": [
    "<h1 style=\"text-align:center\">Congratulations! You made it!<br /></h1>\n",
    "<p>You said <b>hello</b> to the world. You learnt about <b>datatypes</b> that Python has to offer for its <b>variables</b>. You learnt to make logical branches in the flow of program using <b>if-else</b> statement. You also learnt how to <b>loop</b> through a <b>list</b> and <b>tuple</b>. Finally, you also placed a REST API call to fetch response and access the values you needed! <b><i>If this isn't awesome, then, what is?</i></b></p>\n",
    "<img src=\"https://media.giphy.com/media/11sBLVxNs7v6WA/giphy.gif\" />\n",
    "<h3>What next?</h3>\n",
    "<p>This session was just a shakehand with Python. There is lot more you can do with it. I have a books to recommend - </p>\n",
    "<ul>\n",
    "    <li><b>Automate the Boring Stuff with Python - Practical Programming for Total Beginners</b> by <i>Al Sweigart</i></li>\n",
    "    <li><b>How To Think Like a Computer Scientist</b> is a classic open-source book by <i>Allen Downey</i></li>\n",
    "</ul>\n",
    "\n",
    "<p>Both these books are for folks from non programming background. They'll be of great use! Feel free to drop me an email <a>samarth.deyagond@hpe.com</a> or find me on <a href=\"https://hpedev.slack.com/team/UQM0ZTE1F\">slack</a> if you have any doubts.</p>"
   ]
  },
  {
   "cell_type": "markdown",
   "metadata": {},
   "source": [
    "<center><h1>Thank you!</h1></center>"
   ]
  }
 ],
 "metadata": {
  "kernelspec": {
   "display_name": "Python 3",
   "language": "python",
   "name": "python3"
  },
  "language_info": {
   "codemirror_mode": {
    "name": "ipython",
    "version": 3
   },
   "file_extension": ".py",
   "mimetype": "text/x-python",
   "name": "python",
   "nbconvert_exporter": "python",
   "pygments_lexer": "ipython3",
   "version": "3.8.2"
  }
 },
 "nbformat": 4,
 "nbformat_minor": 4
}
