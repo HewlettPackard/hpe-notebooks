{
 "cells": [
  {
   "cell_type": "markdown",
   "metadata": {},
   "source": [
    "# HPE Ezmeral Container Platform (HPE CP) API series  - Lab 2\n",
    "## Deploying cloud native and non-cloud native applications, programmatically on Kubernetes clusters managed by the HPE Ezmeral Container Platform."
   ]
  },
  {
   "cell_type": "markdown",
   "metadata": {},
   "source": [
    "### **Lab workflow:**\n",
    "\n",
    "In this lab we will cover:\n",
    "\n",
    "1. As tenant user, you will first establish a valid login session with HPE CP using the HPE CP REST API.\n",
    "\n",
    "2. You will then fetch the Kubeconfig file for your tenant working context using the HPE CP REST API.\n",
    ">Note: A kubeconfig file is used to access the Kubernetes cluster for your tenant working context\n",
    "\n",
    "3. Finally, using a K8s API client, such as **kubectl**, you will deploy a simple cloud native *stateless*, microservices applications, and a non-cloud native distributed *stateful* AI/analytics **KubeDirector** application on **Kubernetes** cluster managed by the HPE Ezmeral Container Platform. \n",
    ">Note: kubectl has been installed in the JupyterHub server by the Lab administrator.\n",
    "\n",
    "**Definitions:**\n",
    "\n",
    "- *KubeDirector:* also known as Kubernetes Director, is a key component of the HPE Ezmeral Container Platform. KubeDirector is an open source project initiated by HPE (BlueData) that enables the running of non-cloud native stateful monolithic analytics workloads on Kubernetes. In the HPE Ezmeral Container Platform, these applications generally refer to as a distributed, single-node or multi-node application **virtual cluster**. Each application virtual cluster node runs as **a container** in the HPE Ezmeral Container Platform.\n",
    "\n",
    "- *Cloud native application:* Also known as the 12 Factor app, a modern application that leverages microservices architecture with loosely coupled services.\n",
    "\n",
    "- *Non-cloud native application:* a multi-tier application with tightly coupled and interdependent services. \n",
    "\n",
    "- *Stateless application:* A stateless application is an application which does not require persistence of data nor an application state.\n",
    "\n",
    "- *Stateful application:* A stateful application typically requires persistence of certain mountpoints across application cluster nodes rescheduling, restarts, upgrades, rollbacks. A stateful application can also need persistence of network identity (i.e.: hostname). "
   ]
  },
  {
   "cell_type": "markdown",
   "metadata": {},
   "source": [
    "#### Initialize the environment:\n",
    "\n",
    "Let's first define the environment variables according to your HPE Ezmeral Container Platform user account and tenant name, and the HPE Ezmeral Container Platform API system endpoint:"
   ]
  },
  {
   "cell_type": "code",
   "execution_count": null,
   "metadata": {},
   "outputs": [],
   "source": [
    "#\n",
    "# environment variables to be adjusted/verified by the student\n",
    "#\n",
    "student=\"student$$I\" # your Jupyter Notebook student Identifier (i.e.: student<xx>)\n",
    "username=\"student$$I\" # your HPE CP tenant login credentials - username \n",
    "password=\"YourPassword\" # your HPE CP tenant login credentials - password\n",
    "#\n",
    "# fixed environment variables setup by the HPE CP lab administrator\n",
    "#\n",
    "controller_endpoint=\"gateway1.hpedevlab.net:8080\"\n",
    "gateway_host=\"gateway1.hpedevlab.net\"\n",
    "tenantname=\"K8sHackTenant\"\n",
    "k8sClusterId=\"1\"  #this is the K8s Cluster Id provided by the HPE CP admisnistrator and assigned to your K8s tenant.\n",
    "helloWorldApp=\"hello-world-app.yaml\" # the application manifest you will deploy in this lab\n",
    "tensorFlowApp=\"tensorflow-notebook-config-cluster.yaml\" # the kubedirector application cluster configuration TensorFlow\n",
    "\n",
    "echo \"your operation context is:\" $username \"on tenant\" $tenantname "
   ]
  },
  {
   "cell_type": "markdown",
   "metadata": {},
   "source": [
    "#### Authenticate as a tenant user in the specified tenant:\n",
    "\n",
    "> Note:  When you see a [*] next to the next action it means your execution step is busy working within the notebook."
   ]
  },
  {
   "cell_type": "code",
   "execution_count": null,
   "metadata": {},
   "outputs": [],
   "source": [
    "sessionlocation=$(curl -k -i -s --request POST \"https://${controller_endpoint}/api/v2/session\" \\\n",
    "--header 'Accept: application/json' \\\n",
    "--header 'Content-Type: application/json' \\\n",
    "--data-raw '{\n",
    "\"name\": \"'\"$username\"'\",\n",
    "\"password\": \"'\"$password\"'\",\n",
    "\"tenant_name\": \"'\"$tenantname\"'\"\n",
    "}' | grep Location | awk '{print $2}' | tr -d '\\r') #we remove any cr that might exist\n",
    "echo \"This is your session location: \" $sessionlocation\n",
    "SessionId=$(echo $sessionlocation | cut -d'/' -f 5) # extract sessionId for later, for logout\n",
    "echo \"This is your session_Id:\" $SessionId"
   ]
  },
  {
   "cell_type": "markdown",
   "metadata": {},
   "source": [
    "#### Get the Kubeconfig file for your tenant working context:\n",
    "The next step in deploying a containerized application in Kubernetes clusters managed by the HPE Ezmeral Container Platform is to get the kubeconfig file for your tenant working context. \n",
    "\n",
    "The HPE CP REST API call below allows you to get the **kubeconfig file** used to access the Kubernetes cluster for your tenant user account based on your assigned role (tenant member) with the same result as if you had downloaded it from the HPE CP UI."
   ]
  },
  {
   "cell_type": "code",
   "execution_count": null,
   "metadata": {},
   "outputs": [],
   "source": [
    "curl -k -s --request GET \"https://${controller_endpoint}/api/v2/k8skubeconfig\" \\\n",
    "--header \"X-BDS-SESSION: $sessionlocation\" \\\n",
    "--header 'Accept: application/json' \\\n",
    "--header 'Content-Type: application/json' > ${student}_kubeconfig"
   ]
  },
  {
   "cell_type": "code",
   "execution_count": null,
   "metadata": {},
   "outputs": [],
   "source": [
    "cat ${student}_kubeconfig"
   ]
  },
  {
   "cell_type": "markdown",
   "metadata": {},
   "source": [
    "> Notice the kubeconfig file includes the valid token (session location) for the current session you previously established."
   ]
  },
  {
   "cell_type": "markdown",
   "metadata": {},
   "source": [
    "#### Define the Kubeconfig file as a shell environment variable:\n",
    "The kubectl command-line tool (a K8s API client) uses kubeconfig file to communicate with the Kube API server of a Kubernetes cluster. By default, kubectl looks for a file named **config** in the $HOME/.kube directory. Because our kubeconfig file is not located in a default location, we must specify the path of the kubeconfig file by setting the KUBECONFIG environment variable:"
   ]
  },
  {
   "cell_type": "code",
   "execution_count": null,
   "metadata": {},
   "outputs": [],
   "source": [
    "#define the Kubeconfig file as a shell environment variable to tell kubectl where to look for the kubeconfig file\n",
    "export KUBECONFIG=\"${student}_kubeconfig\"\n",
    "echo $KUBECONFIG"
   ]
  },
  {
   "cell_type": "markdown",
   "metadata": {},
   "source": [
    "#### Check your working tenant context:"
   ]
  },
  {
   "cell_type": "code",
   "execution_count": null,
   "metadata": {},
   "outputs": [],
   "source": [
    "kubectl config current-context"
   ]
  },
  {
   "cell_type": "markdown",
   "metadata": {},
   "source": [
    "You can now send Kubernetes API requests using a K8s API client such as **kubectl** to deploy enterprise workloads to the kubernetes cluster using the privileges assigned to your tenant role. \n",
    "\n",
    "\n",
    "**Let's see this in action!**"
   ]
  },
  {
   "cell_type": "markdown",
   "metadata": {},
   "source": [
    "## Deploying a simple cloud native stateless application"
   ]
  },
  {
   "cell_type": "markdown",
   "metadata": {},
   "source": [
    "#### -1- Deploy Hello World containerized application:\n",
    "You will deploy a simple Hello World application on the Kubernetes cluster made available to your tenant. The K8s API call requires the kubectl operation type (create or apply) and the application manifest (YAML file that describes the attributes of the application).  \n",
    "\n",
    "The hello-world application is a **stateless** application because it does not require persistence of data and application state. The hello-world application is a very simple application that will return `Hello Kubernetes!` when accessed. \n",
    "\n",
    "As you are all sharing the same tenant context and Kubernetes cluster resources, let's make sure your application deployment name will be unique among the tenant users. Here we replace the string \"example\" with your \"username\"."
   ]
  },
  {
   "cell_type": "code",
   "execution_count": null,
   "metadata": {},
   "outputs": [],
   "source": [
    "sed -i \"s/example/${username}/g\" $helloWorldApp\n",
    "cat $helloWorldApp"
   ]
  },
  {
   "cell_type": "markdown",
   "metadata": {},
   "source": [
    "The YAML file describes the application resources to deploy, such as the Kubernetes Deployment, the Pod, the container Docker image and port, and the NodePort service used to expose the application outside the Kubernetes cluster."
   ]
  },
  {
   "cell_type": "code",
   "execution_count": null,
   "metadata": {},
   "outputs": [],
   "source": [
    "kubectl apply -f $helloWorldApp"
   ]
  },
  {
   "cell_type": "markdown",
   "metadata": {},
   "source": [
    "After a minute or so, you should get the response message to your K8s API request: *Deployment and service created* on the Kubernetes cluster.   \n",
    "\n",
    "In the next steps, you will use kubectl commands in the context of your tenant user account and get the service endpoints of your application to connect to it."
   ]
  },
  {
   "cell_type": "markdown",
   "metadata": {},
   "source": [
    "#### -2- Get the Kubernetes Pod and Service for your deployed application:"
   ]
  },
  {
   "cell_type": "code",
   "execution_count": null,
   "metadata": {},
   "outputs": [],
   "source": [
    "kubectl get pod -l run=hello-${username}"
   ]
  },
  {
   "cell_type": "code",
   "execution_count": null,
   "metadata": {},
   "outputs": [],
   "source": [
    "kubectl describe service hello-world-service-${username}"
   ]
  },
  {
   "cell_type": "markdown",
   "metadata": {},
   "source": [
    "#### -3- Get the gateway mapped service endpoint:\n",
    "HPE Ezmeral Container Platform automatically maps the **NodePort Service** endpoint to the HPE Ezmeral Container Platform gateway (proxy) host.\n",
    "Access to application services running in containers is proxied via the gateway host on a publicly-accessible IP address and a port number greater than 10000."
   ]
  },
  {
   "cell_type": "code",
   "execution_count": null,
   "metadata": {},
   "outputs": [],
   "source": [
    "myservice=\"hello-world-service-\"${username}\n",
    "appURL=$(kubectl describe service/\"${myservice}\" | grep gateway | awk '{print $3}')\n",
    "appPort=$(echo $appURL | cut -d':' -f 2) # extract the gateway re-mapped port value.\n",
    "myapp_endpoint=\"https://$gateway_host:$appPort\"\n",
    "echo \"Your application service endpoint re-mapped port is: \"$appPort\n",
    "echo \"Your Intranet application service endpoint is: \"$myapp_endpoint"
   ]
  },
  {
   "cell_type": "markdown",
   "metadata": {},
   "source": [
    "#### -4- Check to see if your application is responding:"
   ]
  },
  {
   "cell_type": "code",
   "execution_count": null,
   "metadata": {},
   "outputs": [],
   "source": [
    "curl -k -s \"${myapp_endpoint}\""
   ]
  },
  {
   "cell_type": "markdown",
   "metadata": {},
   "source": [
    "#### -5- Delete your stateless application deployment:\n",
    "Delete your application deployment and services using the K8s API request below. The K8s API call requires the kubectl operation type (delete) and the application YAML manifest.\n",
    "After a minute or so, you should get the message: deployment deleted and service deleted."
   ]
  },
  {
   "cell_type": "code",
   "execution_count": null,
   "metadata": {},
   "outputs": [],
   "source": [
    "kubectl delete -f $helloWorldApp"
   ]
  },
  {
   "cell_type": "markdown",
   "metadata": {},
   "source": [
    "## Deploying a KubeDirector application"
   ]
  },
  {
   "cell_type": "markdown",
   "metadata": {},
   "source": [
    "HPE has been working within the open source Kubernetes community to add capabilities that enable the running of **stateful** analytics workloads (e.g: data-intensive, AI/ML and analytics-processing distributed applications) on Kubernetes.  The open source project is known as **Kubernetes Director** or **KubeDirector** for short.   \n",
    "With KubeDirector, enterprises can deploy all their enterprise applications on a common Kubernetes framework.\n",
    "KubeDirector is implemented as a Kubernetes operator (a custom controller with a set of custom resources such as *KubeDirectorApp* and *KubeDirectorCluster*) by default on every Kubernetes cluster managed by the HPE Ezmeral Container Platform.\n",
    "\n",
    "For more information about KubeDirector, check out the HPE DEV portal [here](https://developer.hpe.com/platform/hpe-container-platform/home)."
   ]
  },
  {
   "cell_type": "markdown",
   "metadata": {},
   "source": [
    "#### -1- List the installed KubeDirector applications:\n",
    "In the current release of the HPE Ezmeral Container Platform, the Kubernetes clusters managed by HPE Ezmeral Container Platform has three (3) pre-configured KubeDirector Application types installed out of the box. \n",
    "\n",
    "You can get the list of KubeDirector applications using the following kubectl command:"
   ]
  },
  {
   "cell_type": "code",
   "execution_count": null,
   "metadata": {},
   "outputs": [],
   "source": [
    "kubectl get kubedirectorapp"
   ]
  },
  {
   "cell_type": "markdown",
   "metadata": {},
   "source": [
    "A KubeDirector application describes an application's **metadata**: the service roles that compose the application virtual cluster, the service endpoints port and port name prefix (that comes from the URL Scheme), the Docker images, the app setup packages, the cardinality (number of members in a role), and if appropriate, the root file system mountpoints (e.g.: /etc, /bin, /opt, /var, /usr) of the containers to persist beyond the life span of the containers. This means stateful applications that require one to write data to their root file systems can now successfully run on Kubernetes. \n",
    "\n",
    "Let's inspect a couple of KubeDirector Application type definitions: "
   ]
  },
  {
   "cell_type": "code",
   "execution_count": null,
   "metadata": {},
   "outputs": [],
   "source": [
    "kubectl describe kubedirectorapp spark221e2"
   ]
  },
  {
   "cell_type": "code",
   "execution_count": null,
   "metadata": {},
   "outputs": [],
   "source": [
    "kubectl describe kubedirectorapp ml-jupyter-notebook "
   ]
  },
  {
   "cell_type": "markdown",
   "metadata": {},
   "source": [
    "#### -2- Deploy an instance of the TensorFlow with Jupyter Notebook stateful application:\n",
    "Let's deploy an instance of the AI/ML TensorFlow application, which is the easiest example to understand.\n",
    "\n",
    "A configuration manifest YAML file is used to create KubeDirector virtual clusters that **instantiate** the defined KubeDirector application type. The configuration file is used to describe the attributes of a given KubeDirector application.\n",
    "\n",
    "We need to make sure the instance name of the KubeDirector application is unique among the tenant users. "
   ]
  },
  {
   "cell_type": "code",
   "execution_count": null,
   "metadata": {},
   "outputs": [],
   "source": [
    "sed -i \"s/example/${username}/g\" $tensorFlowApp\n",
    "cat $tensorFlowApp"
   ]
  },
  {
   "cell_type": "markdown",
   "metadata": {},
   "source": [
    "The configuration manifest specifies the application instance name, the KubeDirector application type, the application service roles to deploy, the number of members (nodes) in a role and compute size, as well as the storage size if the application requires persistent storage. \n",
    "\n",
    ">Note: The TensorFlow KubeDirector application variant used in this tutorial specifies a single node implementation of TensorFlow and it does not specify any persistent storage. Jupyter Notebook is embedded in this local implementation and it is used as interactive client to execute AI/ML programs.\n",
    "\n",
    "Let's deploy the TensorFlow KubeDirector application now using the K8s API call below. The API call requires the **kubectl** operation type (create or apply) and the application YAML manifest."
   ]
  },
  {
   "cell_type": "code",
   "execution_count": null,
   "metadata": {},
   "outputs": [],
   "source": [
    "kubectl apply -f $tensorFlowApp"
   ]
  },
  {
   "cell_type": "markdown",
   "metadata": {},
   "source": [
    "After a minute or so, you should get the response message to your K8s API request: *kubedirectorcluster/Your-instance-name created*.  \n",
    "\n",
    "Once you get this message, go to the next step."
   ]
  },
  {
   "cell_type": "markdown",
   "metadata": {},
   "source": [
    "#### -3- Inspect the deployed KubeDirector application instance: \n",
    "Your application will be represented in the Kubernetes cluster by a resource of type **KubeDirectorCluster**, with the name that was indicated inside the YAML file used to create it. **A KubeDirectorCluster resource is an instantiation of a KubeDirector application**."
   ]
  },
  {
   "cell_type": "code",
   "execution_count": null,
   "metadata": {},
   "outputs": [],
   "source": [
    "clusterName=\"ml-jupyter-notebook-${username}\"\n",
    "kubectl get kubedirectorcluster $clusterName"
   ]
  },
  {
   "cell_type": "markdown",
   "metadata": {},
   "source": [
    "After creating the instance of the KubeDirector application, you can use the `kubectl describe kubedirectorcluster` command below to observe its status and the standard Kubernetes resources that compose the application virtual cluster (statefulsets, pods, services, persistent volume claim if any), as well as any events logged against it.\n",
    "\n",
    "The virtual cluster status indicates its overall \"state\" (top-level property of the status object). It should have a value of **\"configured\"**. \n",
    "\n",
    "> Note: The first time a virtual cluster of a given KubeDirector application type is created, it may take some minutes to reach its \"configured\" state, as the relevant Docker image must be downloaded and imported."
   ]
  },
  {
   "cell_type": "code",
   "execution_count": null,
   "metadata": {},
   "outputs": [],
   "source": [
    "kubectl describe kubedirectorcluster $clusterName"
   ]
  },
  {
   "cell_type": "code",
   "execution_count": null,
   "metadata": {},
   "outputs": [],
   "source": [
    "kubectl get all -l kubedirector.hpe.com/kdcluster=$clusterName"
   ]
  },
  {
   "cell_type": "markdown",
   "metadata": {},
   "source": [
    "Your TensorFlow KubeDirector application virtual cluster is made up of a **StatefulSet**, a **POD** (a cluster node) per service role member, a **NodePort Service** per service role member and a **headless service** for the application cluster.   \n",
    "\n",
    "* The ClusterIP service is the headless service required by a Kubernetes StatefulSet to work. It maintains a stable POD network identity (i.e.: persistence of the hostname of the PODs across PODs rescheduling).\n",
    "* The NodePort service exposes an application service outside the Kubernetes cluster. \n",
    "HPE Ezmeral Container Platform automatically maps the NodePort Service endpoint to the HPE Ezmeral Container Platform gateway (proxy) host."
   ]
  },
  {
   "cell_type": "markdown",
   "metadata": {},
   "source": [
    "#### -4- Get the gateway mapped application service endpoint:\n",
    "To get a report on all services related to a specific virtual cluster, you can use a form of \"kubectl describe\" that matches against a value of the **kubedirector.hpe.com/kdcluster=YourClusterApplicationName** label."
   ]
  },
  {
   "cell_type": "code",
   "execution_count": null,
   "metadata": {},
   "outputs": [],
   "source": [
    "tfappURL=$(kubectl describe service -l  kubedirector.hpe.com/kdcluster=${clusterName} | grep gateway | awk '{print $3}')\n",
    "tfappPort=$(echo $tfappURL | cut -d':' -f 2) # extract the gateway re-mapped port value.\n",
    "mytfapp_endpoint=\"https://$gateway_host:$tfappPort\"\n",
    "echo \"Your application service endpoint re-mapped port is: \"$tfappPort\n",
    "echo \"Your Intranet application service endpoint is: \"$mytfapp_endpoint"
   ]
  },
  {
   "cell_type": "markdown",
   "metadata": {},
   "source": [
    "Access to application services running in containers is proxied via the gateway host and a port number greater than 10000."
   ]
  },
  {
   "cell_type": "markdown",
   "metadata": {},
   "source": [
    "#### -5- Verify the application service is responding:"
   ]
  },
  {
   "cell_type": "code",
   "execution_count": null,
   "metadata": {},
   "outputs": [],
   "source": [
    "curl -k -L -s -i \"${mytfapp_endpoint}\" | grep \"HTTP/1.1\""
   ]
  },
  {
   "cell_type": "markdown",
   "metadata": {},
   "source": [
    "#### -6- Fetch the authentication token of TensorFlow Jupyter Notebook: "
   ]
  },
  {
   "cell_type": "markdown",
   "metadata": {},
   "source": [
    "Execute this command to get the authentication token: `kubectl exec pod-name jupyter notebook list` and use this token to login to your TensorFlow Jupyter notebook:"
   ]
  },
  {
   "cell_type": "code",
   "execution_count": null,
   "metadata": {},
   "outputs": [],
   "source": [
    "mytfapp_pod=$(kubectl get pod -l kubedirector.hpe.com/kdcluster=${clusterName} | grep kdss | awk '{print $1}') \n",
    "mytfapp_token=$(kubectl exec ${mytfapp_pod} jupyter notebook list)\n",
    "mytfToken=$(echo $mytfapp_token | cut -d'?' -f 2 | cut -d':' -f 1) # extract the Token value\n",
    "echo \"Your TensorFlow Jupyter Notebook login token is:\" $mytfToken"
   ]
  },
  {
   "cell_type": "markdown",
   "metadata": {},
   "source": [
    "#### -7- Connect to your application from your browser:"
   ]
  },
  {
   "cell_type": "markdown",
   "metadata": {},
   "source": [
    "You can connect to your TensorFlow application with Jupyter Notebook and start build your ML model (for example a classification model), train the model and make predictions.\n",
    "\n",
    "Open a new tab in your browser and connect to the application service endpoint through our Internet NAT firewall: https://notebooks.hpedev.io:YourPortNumber where port number is the re-mapped port you get for your service endpoint. When prompted to enter your password or token, please enter the authentication token you have just fetched in the previous step.\n",
    "\n",
    ">Note: You can also do a copy (CTRL-C) of the URL after execution of the cell code below and paste it (CTRL-V) on a new tab in your browser."
   ]
  },
  {
   "cell_type": "code",
   "execution_count": null,
   "metadata": {},
   "outputs": [],
   "source": [
    "echo \"Your application service URL:\" \"https://notebooks.hpedev.io:$tfappPort?$mytfToken\""
   ]
  },
  {
   "cell_type": "markdown",
   "metadata": {},
   "source": [
    "![TensorFlow Jupyter Notebook](Pictures/kubedirector-tf-jupyterNotebook.png)"
   ]
  },
  {
   "cell_type": "markdown",
   "metadata": {},
   "source": [
    "#### -8- Go through some cleanup:"
   ]
  },
  {
   "cell_type": "markdown",
   "metadata": {},
   "source": [
    "* First, delete the KubeDirector application cluster instance using the K8s API call below. The K8s API call requires the **kubectl** operation type (delete) and the application manifest.\n",
    "\n",
    "> Note: Deleting the KubeDirectorCluster resource will automatically delete all resources (for example the pods, services, statefulset) that compose the KubeDirector application virtual cluster."
   ]
  },
  {
   "cell_type": "code",
   "execution_count": null,
   "metadata": {},
   "outputs": [],
   "source": [
    "kubectl delete -f $tensorFlowApp"
   ]
  },
  {
   "cell_type": "markdown",
   "metadata": {},
   "source": [
    "* Although sessions have a time to live (TTL) of 24 hours, it is a best practice in REST API programming to cleanup and delete those sessions when done. We can use a DELETE /api/v2/session/SessionId to achieve this."
   ]
  },
  {
   "cell_type": "code",
   "execution_count": null,
   "metadata": {},
   "outputs": [],
   "source": [
    "curl -k -i -s --request DELETE \"https://${controller_endpoint}/api/v2/session/${SessionId}\" \\\n",
    "--header \"X-BDS-SESSION: $sessionlocation\" \\\n",
    "--header 'Accept: application/json' \\\n",
    "--header 'Content-Type: application/json'"
   ]
  },
  {
   "cell_type": "markdown",
   "metadata": {},
   "source": [
    "The status *204 No Content* means the session object has been deleted."
   ]
  },
  {
   "cell_type": "markdown",
   "metadata": {},
   "source": [
    "* Finally, reset your applications YAML files and delete the kubeconfig file"
   ]
  },
  {
   "cell_type": "code",
   "execution_count": null,
   "metadata": {},
   "outputs": [],
   "source": [
    "#reset the application deployment name in the YAML file and delete the kubeconfgi file\n",
    "rm ${student}_kubeconfig\n",
    "sed -i \"s/${username}/example/g\" $helloWorldApp\n",
    "sed -i \"s/${username}/example/g\" $tensorFlowApp\n",
    "cat $helloWorldApp\n",
    "cat $tensorFlowApp"
   ]
  },
  {
   "cell_type": "markdown",
   "metadata": {},
   "source": [
    "## Summary\n",
    "\n",
    "In this tutorial, we have shown you how **tenant users** can deploy, programmatically, cloud native stateless, microservices applications, and non-cloud native distributed stateful AI/analytics KubeDirector applications on Kubernetes clusters managed by the HPE Ezmeral Container Platform. You also used the standard Kubernetes command line (kubectl) to interact with the Kubernetes cluster in the context of your tenant user account. \n",
    "\n",
    "This concludes the workshop. We introduced you to the HPE Ezmeral Container Platform (HPE CP) REST API basics and showed you how to interact with HPE CP programmatically through REST API and K8s API, to accelerate your application development and deployment on containers. \n",
    "\n",
    "## Learn more\n",
    "\n",
    "Check out these community blogs\n",
    "\n",
    "* [HPE Ezmeral Container Platform REST API Part 1 - Authenticating](https://developer.hpe.com/blog/hpe-container-platform-rest-api-part-1-authenticating)\n",
    "* [HPE Ezmeral Container Platform REST API Part 2 - Deploying containerized applications](https://developer.hpe.com/blog/hpe-container-platform-rest-api-part-2-deploying-containerized-applicati)"
   ]
  }
 ],
 "metadata": {
  "kernelspec": {
   "display_name": "Bash",
   "language": "bash",
   "name": "bash"
  },
  "language_info": {
   "codemirror_mode": "shell",
   "file_extension": ".sh",
   "mimetype": "text/x-sh",
   "name": "bash"
  }
 },
 "nbformat": 4,
 "nbformat_minor": 4
}
