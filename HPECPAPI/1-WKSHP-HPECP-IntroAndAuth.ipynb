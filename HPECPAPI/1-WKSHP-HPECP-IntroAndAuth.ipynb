{
 "cells": [
  {
   "cell_type": "markdown",
   "metadata": {},
   "source": [
    "# HPE Ezmeral Container Platform (HPE CP) API series - Lab 1\n",
    "## Getting started with the HPE Ezmeral Container Platform REST API - Session Authentication\n",
    "\n",
    "\n",
    "**Requirements:**\n",
    "- HPE Ezmeral Container Platform deployment\n",
    "- IP address or FQDN of the HPE Ezmeral Container Platform's controller host and Gateway host\n",
    "- a tenant user account   \n",
    "\n",
    "**Recommended workshop and blog:**\n",
    "- Workshop: Understanding API basics and the value they provide (session ID: W480). \n",
    "- Blog: you can also check out the [Understanding API basics and the value they provide](https://developer.hpe.com/blog/understanding-api-basics-and-the-value-they-provide) blog on HPE Developer Community portal.\n",
    "\n",
    "**Utilities:**   \n",
    "- Postman, cURL  \n",
    "- Jupyter Notebook server with bash kernel installed\n",
    "- kubectl\n",
    "\n",
    "**Lab workflow:**\n",
    "\n",
    "In this lab, we will cover:\n",
    "\n",
    "1. The basic form of a REST API call\n",
    "\n",
    "2. How to retrieve an authentication token (aka session location) that is used to communicate with the HPE Ezmeral Container Platform through its REST API\n",
    "\n",
    "\n",
    "**Definitions:**\n",
    "- *HPE Ezmeral Container Platform* is an enterprise-grade container platform designed to deploy both cloud-native and non-cloud-native applications whether they are on-premises, at the edge, in multiple public clouds, or in a hybrid model. This makes the HPE Ezmeral Container Platform ideal for helping enterprise customers accelerate their application development and deployment via **containers** on-demand through a self-service portal and a RESTful API that surfaces programmable access. To learn more about HPE Ezmeral Container Platform, visit the [HPE DEV portal](https://developer.hpe.com) and check out the blog articles.\n",
    "\n",
    "- *tenant:* A tenant is a group of users created by the platform administrator. A tenant can represent, for example, an office location, a business unit, an organization, or a project. A tenant is allocated a quota of resources (CPU, GPU, memory, storage, and Kubernetes clusters resources) by the platform administrator. All the resources used by a tenant are not shared with other tenants.\n",
    "\n",
    "- *Working tenant context:* A working tenant context establishes the user identity, its tenant name and role (member or admin). Based on this context, tenant users are granted privileges and permissions to create and manage resources for their tenant on Kubernetes clusters managed by HPE CP."
   ]
  },
  {
   "cell_type": "markdown",
   "metadata": {},
   "source": [
    "## The HPE Ezmeral Container Platform REST API\n",
    "\n",
    ">Note: If you are not already familiar with REST API calls and Postman, I encourage you to check out the [Understanding API basics and the value they provide](https://developer.hpe.com/blog/understanding-api-basics-and-the-value-they-provide) blog on HPE Developer Community portal. It explains REST API concepts, such as HTTP verbs that can be used to call against the API, the headers and payloads, and how to make API calls. \n",
    "\n",
    "All the HPE Ezmeral Container Platform REST API calls contain: \n",
    "\n",
    "**The HTTP method (Verb):**\n",
    "\n",
    "* *GET* – Retrieve object instance properties\n",
    "* *POST* – Create a new object instance\n",
    "* *PUT/PATCH* – Modify object instance properties (two different ways)\n",
    "* *DELETE* - Remove an object instance \n",
    "\n",
    "**The API endpoint URL:**\n",
    "\n",
    "   https://API-endpoint/api/v2/[object]\n",
    "   \n",
    "   In our HPE CP deployment, the communication with HPE CP REST API endpoint is through the Gateway host on port 8080:\n",
    "   \n",
    "   https://[Gateway-IP-address-or-fqdn]:8080/api/v2/[object]\n",
    "  "
   ]
  },
  {
   "cell_type": "markdown",
   "metadata": {},
   "source": [
    "## Session Authentication in a multi-tenant environment\n",
    "\n",
    "The HPE CP REST API allows you to execute multiple actions programmatically, from performing administrative tasks like creating Kubernetes clusters to deploying applications for various use cases in a shared multi-tenant environment.\n",
    "\n",
    "All the REST API calls you can do against the HPE Ezmeral Container Platform API must be authenticated with a \"token\". HPE Ezmeral Container Platform uses a *‘session location’* as token. In a multi-tenant environment, you retrieve the session location by issuing an authentication request in the following form:\n",
    "* A POST request against object **/api/v2/session**, with the username/password credentials and the Tenant name in the body.\n",
    "* The session location is then used in the HTTP header of subsequent requests.\n",
    "* For each subsequent call, you specify a new HTTP header with its key set to **X-BDS-SESSION** and its value set to the session location value and used as the *working tenant context*.  \n",
    "\n",
    "Let's see this in action using cURL, an HTTP client. Information on cURL can be found [here](https://curl.haxx.se/)"
   ]
  },
  {
   "cell_type": "markdown",
   "metadata": {},
   "source": [
    "### Using cURL\n",
    "\n",
    "#### Initialize the environment:\n",
    "   \n",
    "Let's first define the environment variables according to your HPE Ezmeral Container Platform user account and tenant name, and the HPE Ezmeral Container Platform API system endpoint:"
   ]
  },
  {
   "cell_type": "code",
   "execution_count": null,
   "metadata": {},
   "outputs": [],
   "source": [
    "#\n",
    "# environment variables to be adjusted/verified by the student\n",
    "#\n",
    "username=\"student$$I\" # your HPE CP tenant login credentials - username\n",
    "password=\"YourPassword\" # your HPE CP tenant login credentials - password\n",
    "#\n",
    "# fixed environment variables setup by the HPE CP Lab administrator\n",
    "#\n",
    "controller_endpoint=\"gateway1.hpedevlab.net:8080\"\n",
    "tenantname=\"K8sHackTenant\"\n",
    "echo \"your operation context is:\" $username \"on tenant\" $tenantname "
   ]
  },
  {
   "cell_type": "markdown",
   "metadata": {},
   "source": [
    "#### -1- Authenticate as a tenant user in the specified tenant:\n",
    "\n",
    "> Note:  When you see a [*] next to the next action it means your execution step is busy working within the notebook."
   ]
  },
  {
   "cell_type": "code",
   "execution_count": null,
   "metadata": {},
   "outputs": [],
   "source": [
    "sessionlocation=$(curl -k -i -s --request POST \"https://${controller_endpoint}/api/v2/session\" \\\n",
    "--header 'Accept: application/json' \\\n",
    "--header 'Content-Type: application/json' \\\n",
    "--data-raw '{\n",
    "\"name\": \"'\"$username\"'\",\n",
    "\"password\": \"'\"$password\"'\",\n",
    "\"tenant_name\": \"'\"$tenantname\"'\"\n",
    "}' | grep Location | awk '{print $2}' | tr -d '\\r') #we remove any cr that might exist\n",
    "echo \"This is your session location: \" $sessionlocation\n",
    "SessionId=$(echo $sessionlocation | cut -d'/' -f 5) # extract sessionId for later, for logout\n",
    "echo $SessionId"
   ]
  },
  {
   "cell_type": "markdown",
   "metadata": {},
   "source": [
    "#### -2- Making subsequent API calls:\n",
    "For each subsequent call, you must set a new HTTP header with its key set to **X-BDS-SESSION** and its value set to the session location value. This session token is used as the **working tenant context**. Here you will fetch information about your session you have just established with the HPE Ezmeral  Container Platform as a tenant user."
   ]
  },
  {
   "cell_type": "code",
   "execution_count": null,
   "metadata": {},
   "outputs": [],
   "source": [
    "curl -k -s --request GET \"https://${controller_endpoint}/api/v2/session\" \\\n",
    "--header \"X-BDS-SESSION: $sessionlocation\" \\\n",
    "--header 'Accept: application/json' \\\n",
    "--header 'Content-Type: application/json' | jq  #using jq to pretty print the JSON reponse of the API call "
   ]
  },
  {
   "cell_type": "markdown",
   "metadata": {},
   "source": [
    ">Note: Notice that the session location token will remain valid for 1440 minutes (or 24 hours), after which time you will have to establish a new login session."
   ]
  },
  {
   "cell_type": "markdown",
   "metadata": {},
   "source": [
    "### -3- Closing your login session:"
   ]
  },
  {
   "cell_type": "markdown",
   "metadata": {},
   "source": [
    "Although sessions have a time to live (TTL) of 24 hours, it is a **best practice** in REST API programming to cleanup and delete those sessions when you are done. You use a DELETE /api/v2/session/SessionId to achieve this."
   ]
  },
  {
   "cell_type": "code",
   "execution_count": null,
   "metadata": {},
   "outputs": [],
   "source": [
    "curl -k -i -s --request DELETE \"https://${controller_endpoint}/api/v2/session/${SessionId}\" \\\n",
    "--header \"X-BDS-SESSION: $sessionlocation\" \\\n",
    "--header 'Accept: application/json' \\\n",
    "--header 'Content-Type: application/json'"
   ]
  },
  {
   "cell_type": "markdown",
   "metadata": {},
   "source": [
    "The status *204 No Content* means the session has been deleted."
   ]
  },
  {
   "cell_type": "markdown",
   "metadata": {},
   "source": [
    "## Summary\n",
    "\n",
    "In this tutorial, we have shown you how to authenticate to the HPE Ezmeral Container Platform API endpoint and retrieve object data by providing the authentication session location in the header. \n",
    "\n",
    "Now, let's continue with our next lab:\n",
    "* [Lab 2](2-WKSHP-HPECP-DeployApp-K8S-Tenant-tf.ipynb)"
   ]
  }
 ],
 "metadata": {
  "kernelspec": {
   "display_name": "Bash",
   "language": "bash",
   "name": "bash"
  },
  "language_info": {
   "codemirror_mode": "shell",
   "file_extension": ".sh",
   "mimetype": "text/x-sh",
   "name": "bash"
  }
 },
 "nbformat": 4,
 "nbformat_minor": 4
}
